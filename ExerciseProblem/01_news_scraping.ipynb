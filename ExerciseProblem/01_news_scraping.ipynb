{
 "cells": [
  {
   "cell_type": "markdown",
   "id": "e3fc0fbf",
   "metadata": {},
   "source": [
    "질문1 :  아래의 url에서 뉴스기사의 링크와 제목을 출력하세요.\n",
    "    # 다음 경제 뉴스 URL\n",
    "    url = 'https://news.daum.net/economy'\n",
    "\n",
    "실행결과: \n",
    "https://news.daum.net/economy\n",
    "<class 'requests.models.Response'>\n",
    "200\n",
    "<class 'bs4.element.ResultSet'> 9\n",
    "https://v.daum.net/v/20250408113412211\n",
    "트럼프 때문에 '공동 묘지' 된 금융시장, 투자 전문가 \"뉴스 보지 말라\" 왜?\n",
    "https://v.daum.net/v/20250408111800386\n",
    "한국 GDP 성장 기여도 95% 달하는 수출에 직격탄 [관세전쟁 후폭풍]\n",
    "https://v.daum.net/v/20250408111603311\n",
    "'검은 월요일' 1987년과 2025년\n",
    "\n"
   ]
  },
  {
   "cell_type": "code",
   "execution_count": 25,
   "id": "3f67e378",
   "metadata": {},
   "outputs": [
    {
     "name": "stdout",
     "output_type": "stream",
     "text": [
      "https://news.daum.net/economy\n",
      "<class 'requests.models.Response'>\n",
      "200\n",
      "<class 'bs4.element.ResultSet'> 9\n",
      "https://v.daum.net/v/20250722183143976\n",
      "“자율주행, 이동약자 지원하는 ‘공공성’에 초점 맞춰야”\n",
      "https://v.daum.net/v/20250722181057244\n",
      "꾸준히 강세 흐름 보이는 메이저 알트코인들 : 코리안 크립토 위클리 [INFCL 리서치]\n",
      "https://v.daum.net/v/20250722175548581\n",
      "세계시장 제패한 K뷰티·푸드…'첨단' 아니라며 R&D지원은 쥐꼬리\n",
      "https://v.daum.net/v/20250722175106335\n",
      "백만이상 日도시 100년뒤 11개→4개 ‘뚝’...“韓 소멸속도 더 빨라”\n",
      "https://v.daum.net/v/20250722174746199\n",
      "예금자보호 1억 시대…내 돈 어디에 맡길까?\n",
      "https://v.daum.net/v/20250722174241984\n",
      "전재수 해수 후보자 조선업 '신경전'에 김정관 산업장관 '신중론'\n",
      "https://v.daum.net/v/20250722171546881\n",
      "식재료비 뛰고 사장님은 늙고…동네 백반집이 사라진다\n",
      "https://v.daum.net/v/20250722171502827\n",
      "“흑자 전환 노린다” 국내외 의료 AI, 실적 경쟁 치열\n",
      "https://v.daum.net/v/20250722164636610\n",
      "한국블록체인스타트업협회 조원희 회장 취임…산업 융합과 글로벌 진출의 ‘종합 허브’ 선언\n"
     ]
    }
   ],
   "source": [
    "import requests\n",
    "from bs4 import BeautifulSoup\n",
    "\n",
    "news_url = 'https://news.daum.net/economy'\n",
    "print(news_url)\n",
    "\n",
    "req_header ={\n",
    "    \"user-agent\": \"Mozilla/5.0 (Windows NT 10.0; Win64; x64) AppleWebKit/537.36 (KHTML, like Gecko) Chrome/104.0.0.0 Safari/537.36\"}\n",
    "\n",
    "# requests 의 get() 함수 호출하기\n",
    "res = requests.get(news_url, headers = req_header)\n",
    "res.encoding = 'utf-8'\n",
    "print(type(res))\n",
    "print(res.status_code)\n",
    "\n",
    "\n",
    "if (res.ok):\n",
    "    html = res.text\n",
    "    soup = BeautifulSoup(html, 'html.parser')\n",
    "        #print(soup)\n",
    "    newslines = soup.select('ul.list_newsheadline2 li')\n",
    "    print(type(newslines), len(newslines))\n",
    "\n",
    "    for li_tag in newslines :\n",
    "        a_tag = li_tag.find('a')\n",
    "        link = a_tag['href']\n",
    "        print(link)\t\n",
    "        \n",
    "        strong_tag = li_tag.select_one('div.cont_thumb strong.tit_txt')\n",
    "        title = strong_tag.text\n",
    "        print(title)\n",
    "        \n",
    "else :\n",
    "    # 응답(response)이 Error 이면 status code 출력  \n",
    "    print(f'Error code = {res.status_code}')\n",
    "\n",
    "\n",
    "\n"
   ]
  }
 ],
 "metadata": {
  "kernelspec": {
   "display_name": "base",
   "language": "python",
   "name": "python3"
  },
  "language_info": {
   "codemirror_mode": {
    "name": "ipython",
    "version": 3
   },
   "file_extension": ".py",
   "mimetype": "text/x-python",
   "name": "python",
   "nbconvert_exporter": "python",
   "pygments_lexer": "ipython3",
   "version": "3.12.7"
  }
 },
 "nbformat": 4,
 "nbformat_minor": 5
}
