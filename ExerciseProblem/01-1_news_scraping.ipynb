{
 "cells": [
  {
   "cell_type": "markdown",
   "id": "e3fc0fbf",
   "metadata": {},
   "source": [
    "질문1 :  아래의 url에서 뉴스기사의 링크와 제목을 출력하세요.\n",
    "    # 다음 경제 뉴스 URL\n",
    "    url = 'https://news.daum.net/economy'\n"
   ]
  },
  {
   "cell_type": "code",
   "execution_count": null,
   "id": "3f67e378",
   "metadata": {},
   "outputs": [
    {
     "name": "stdout",
     "output_type": "stream",
     "text": [
      "https://news.daum.net/economy\n",
      "<class 'requests.models.Response'>\n",
      "200\n",
      "<class 'bs4.element.ResultSet'> 9\n",
      "https://v.daum.net/v/20250723150154993\n",
      "<class 'bs4.element.Tag'>\n",
      "3선 딱지 뗀 '보험맨' 하태경 \"암호화폐 융합보험 시대 곧 온다\" [월간중앙]\n",
      "https://v.daum.net/v/20250723142101850\n",
      "<class 'bs4.element.Tag'>\n",
      "네일왕서 아파트왕으로...박화영 인코코 회장 “맨해튼서 예술같은 부동산개발”\n",
      "https://v.daum.net/v/20250723140906360\n",
      "<class 'bs4.element.Tag'>\n",
      "[대전 둔산지구의 미래를 그리다] 디지털·스마트 신도시 '풍골'에서 미래도시의 청사진을 보다\n",
      "https://v.daum.net/v/20250723135926840\n",
      "<class 'bs4.element.Tag'>\n",
      "\"미일 협상, 중요한 참고사례…FTA 고려시 日보단 더 얻어야\"\n",
      "https://v.daum.net/v/20250723130459121\n",
      "<class 'bs4.element.Tag'>\n",
      "[충남창업人-톡](6)카데아, '3D 어라운드 뷰' 개발…美·유럽 시장 정조준\n",
      "https://v.daum.net/v/20250723125814945\n",
      "<class 'bs4.element.Tag'>\n",
      "[뉴스나우] 이틀 앞으로 다가온 한미 협상 시사점은?\n",
      "https://v.daum.net/v/20250723122253422\n",
      "<class 'bs4.element.Tag'>\n",
      "“대졸자, 일자리 밖에 서다”.. 비경제활동 300만 시대의 경고\n",
      "https://v.daum.net/v/20250723122213414\n",
      "<class 'bs4.element.Tag'>\n",
      "무료로 배송 받았던 카톡 선물 '유료' 옵션 생긴 이유는?\n",
      "https://v.daum.net/v/20250723120247911\n",
      "<class 'bs4.element.Tag'>\n",
      "혼인·출생아 수 청신호…예비부부 울리는 ‘스드메’\n"
     ]
    }
   ],
   "source": [
    "import requests\n",
    "from bs4 import BeautifulSoup\n",
    "\n",
    "news_url = 'https://news.daum.net/economy'\n",
    "print(news_url)\n",
    "\n",
    "req_header ={\n",
    "    \"user-agent\": \"Mozilla/5.0 (Windows NT 10.0; Win64; x64) AppleWebKit/537.36 (KHTML, like Gecko) Chrome/104.0.0.0 Safari/537.36\"}\n",
    "\n",
    "# requests 의 get() 함수 호출하기\n",
    "res = requests.get(news_url, headers = req_header)\n",
    "res.encoding = 'utf-8'\n",
    "print(type(res))\n",
    "print(res.status_code)\n",
    "\n",
    "\n",
    "if (res.ok):\n",
    "    html = res.text\n",
    "    soup = BeautifulSoup(html, 'html.parser')\n",
    "        #print(soup)\n",
    "    newslines = soup.select('ul.list_newsheadline2 li')\n",
    "    print(type(newslines), len(newslines))\n",
    "\n",
    "    for li_tag in newslines :    #li_tag =><li>\n",
    "        a_tag = li_tag.find('a') #a_taf => <a href = \"\"> ->li tag 밑에 a태그를 찾음\n",
    "        link = a_tag['href'] #a 태그의 href속성을 찾아주세요\n",
    "        print(link)\t\n",
    "        \n",
    "        #strong_tag = li_tag.select('div.cont_thumb strong.tit_txt')[0]  -> [<strong] \n",
    "        strong_tag = li_tag.select_one('div.cont_thumb strong.tit_txt') #div 밑에 strong태그가 하나이기 때문\n",
    "        title = strong_tag.text\n",
    "        print(title)\n",
    "        \n",
    "else :\n",
    "    # 응답(response)이 Error 이면 status code 출력  \n",
    "    print(f'Error code = {res.status_code}')\n",
    "\n",
    "\n",
    "\n"
   ]
  }
 ],
 "metadata": {
  "kernelspec": {
   "display_name": "base",
   "language": "python",
   "name": "python3"
  },
  "language_info": {
   "codemirror_mode": {
    "name": "ipython",
    "version": 3
   },
   "file_extension": ".py",
   "mimetype": "text/x-python",
   "name": "python",
   "nbconvert_exporter": "python",
   "pygments_lexer": "ipython3",
   "version": "3.12.7"
  }
 },
 "nbformat": 4,
 "nbformat_minor": 5
}
