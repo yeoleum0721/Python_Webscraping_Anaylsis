{
 "cells": [
  {
   "cell_type": "markdown",
   "id": "fa4f5307",
   "metadata": {},
   "source": [
    "### 2-3. 하나의 네이버 웹툰과 여러개의 회차에 대한 Image 다운로드 하기 (선택)\n",
    ":  하나의 웹툰의 제목(title)과 회차를 알 수 있는 url을 입력으로 받는 함수를 선언합니다. \n",
    "   def download_all_episode(title, episode_url):\n",
    ": 하나의 웹툰에 대한 1Page의 20 회차의 image를 다운로드 받습니다. \n",
    ": 페이징 처리된 모든 회차의 image 다운로드가 어려우시면 그 부분은 생략하셔도 됩니다.\n",
    " \n",
    "download_all_episode('배달왕', ’https://comic.naver.com/webtoon/list?titleId=823933’)\n",
    "\n",
    "   img\\배달왕\\130\n",
    "   img\\배달왕\\129\n",
    "   img\\배달왕\\128\n",
    "\n",
    "https://comic.naver.com/webtoon/list?titleId=823933\n",
    "위의 페이지에서 모든 회차의 url을 먼저 추출합니다. \n",
    "아래의 같은 <a> 태그의 href 속성값을 모두 추출하시면 됩니다.\n",
    "130화 <a href=\"/webtoon/detail?titleId=823933&no=130&week=thu\"></a>\n",
    "129화 <a href=\"/webtoon/detail?titleId=823933&no=129&week=thu\"></a>\n",
    "\n",
    "회차의 url에 회차번호가 있습니다. \n",
    "no=130 일때 실제의 회차는 130회 입니다. \n",
    "https://comic.naver.com/webtoon/detail?titleId=823933&no=130&week=thu\n",
    "\n",
    "추출한 회차의 url를 순회하면서 2-2. 하나의 네이버 웹툰과 1개의 회차에 대한 Image 다운로드 함수를 호출하시면 됩니다"
   ]
  },
  {
   "cell_type": "code",
   "execution_count": 15,
   "id": "279bc071",
   "metadata": {},
   "outputs": [],
   "source": [
    "\n",
    "import requests\n",
    "from bs4 import BeautifulSoup\n",
    "import os\n",
    "\n",
    "def download_all_episode(title, episode_url):\n",
    "    req_header = {\n",
    "    'referer': episode_url, \n",
    "    \"user-agent\": \"Mozilla/5.0 (Windows NT 10.0; Win64; x64) AppleWebKit/537.36 (KHTML, like Gecko) Chrome/104.0.0.0 Safari/537.36\"}\n",
    "\n",
    "    res = requests.get(episode_url, headers = req_header)\n",
    "    print(res.ok)\n",
    "    if res.ok :\n",
    "        # 위 페이지 모든 회차 url 추출\n",
    "        soup = BeautifulSoup(res.text, 'html.parser')\n",
    "        print(soup)\n",
    "        a_tags = soup.select('li')\n",
    "        print(len(a_tags))\n",
    "       \n",
    "\n"
   ]
  },
  {
   "cell_type": "code",
   "execution_count": null,
   "id": "7affd39e",
   "metadata": {},
   "outputs": [],
   "source": [
    "download_all_episode('배달왕', 'https://comic.naver.com/webtoon/list?titleId=823933')"
   ]
  }
 ],
 "metadata": {
  "kernelspec": {
   "display_name": "base",
   "language": "python",
   "name": "python3"
  },
  "language_info": {
   "codemirror_mode": {
    "name": "ipython",
    "version": 3
   },
   "file_extension": ".py",
   "mimetype": "text/x-python",
   "name": "python",
   "nbconvert_exporter": "python",
   "pygments_lexer": "ipython3",
   "version": "3.12.7"
  }
 },
 "nbformat": 4,
 "nbformat_minor": 5
}
