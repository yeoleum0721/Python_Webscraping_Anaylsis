{
 "cells": [
  {
   "cell_type": "markdown",
   "id": "35997504",
   "metadata": {},
   "source": [
    "### 질문2:  여러개의 section 중 하나를 선택해서 url에서 뉴스기사의 링크와 제목을 출력하는 코드를 함수로 작성하기\n",
    "    \n",
    "    # 경제 뉴스 URL\n",
    "    url = 'https://news.daum.net/economy'\n",
    "    # 사회 뉴스 URL\n",
    "    url = 'https://news.daum.net/society'\n",
    "\n",
    "    코드설명\n",
    "    print_news() 함수에서 \n",
    "    section name (섹션명)을 입력 받아서 section_dict에서 section 영문   \n",
    "    문자열을 추출해서 url을 생성합니다.\n",
    "    그 이후의 코드는 질문1번 문제와 동일합니다.\n",
    "\n",
    "section_dict = {'기후/환경':'climate','사회':'society','경제':'economy','정치':'politics',\\\n",
    "             '국제':'world','문화':'culture','생활':'life','IT/과학':'tech','인물':'people'}\n",
    "\n",
    "#### 함수선언\n",
    "def print_news(section_name):\n",
    "\tpass\n",
    "\n",
    "#### 함수호출\n",
    "print_news('경제')\n",
    "\tprint_news('사회')\n"
   ]
  },
  {
   "cell_type": "code",
   "execution_count": null,
   "id": "f1ea1037",
   "metadata": {},
   "outputs": [],
   "source": [
    "import requests\n",
    "from bs4 import BeautifulSoup\n",
    "\n",
    "section_dict = {'기후/환경':'climate','사회':'society','경제':'economy','정치':'politics','국제':'world','문화':'culture','생활':'life','IT/과학':'tech','인물':'people'}\n",
    "\n",
    "\n",
    "def print_news(section_name):\n",
    "    sid = section_dict[section_name]\n",
    "    news_url = f\"https://news.daum.net/{sid}\"\n",
    "    \n",
    "    print(f'======> {news_url} {section_name} 뉴스 <======')\n",
    "    req_header ={\n",
    "    \"user-agent\": \"Mozilla/5.0 (Windows NT 10.0; Win64; x64) AppleWebKit/537.36 (KHTML, like Gecko) Chrome/104.0.0.0 Safari/537.36\"}\n",
    "\n",
    "    # requests 의 get() 함수 호출하기\n",
    "    res = requests.get(news_url, headers = req_header)\n",
    "    res.encoding = 'utf-8'\n",
    "\n",
    "    if (res.ok):\n",
    "        html = res.text\n",
    "        soup = BeautifulSoup(html, 'html.parser')\n",
    "        #print(soup)\n",
    "        newslines = soup.select('ul.list_newsheadline2 li')\n",
    "        print(type(newslines), len(newslines))\n",
    "\n",
    "        for li_tag in newslines :\n",
    "            a_tag = li_tag.find('a')\n",
    "            link = a_tag['href']\n",
    "            print(link)\t\n",
    "        \n",
    "            strong_tag = li_tag.select_one('div.cont_thumb strong.tit_txt')\n",
    "            title = strong_tag.text\n",
    "            print(title)\n",
    "    else :\n",
    "        # 응답(response)이 Error 이면 status code 출력  \n",
    "        print(f'Error code = {res.status_code}')\n",
    "\n",
    "\n",
    "print_news('경제')\n",
    "print_news('사회')"
   ]
  }
 ],
 "metadata": {
  "kernelspec": {
   "display_name": "base",
   "language": "python",
   "name": "python3"
  },
  "language_info": {
   "codemirror_mode": {
    "name": "ipython",
    "version": 3
   },
   "file_extension": ".py",
   "mimetype": "text/x-python",
   "name": "python",
   "nbconvert_exporter": "python",
   "pygments_lexer": "ipython3",
   "version": "3.12.7"
  }
 },
 "nbformat": 4,
 "nbformat_minor": 5
}
