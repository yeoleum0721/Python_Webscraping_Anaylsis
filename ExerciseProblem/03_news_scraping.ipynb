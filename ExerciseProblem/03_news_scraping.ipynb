{
 "cells": [
  {
   "cell_type": "markdown",
   "id": "e553215d",
   "metadata": {},
   "source": [
    "### 2-1. Nate 뉴스기사 제목 스크래핑하기 (필수)\n",
    "https://news.nate.com/recent?mid=n0100\n",
    "최신뉴스, 정치 , 경제, 사회, 세계, IT/과학 \n",
    "6개의 섹션의 뉴스를 출력하는 함수를 생성하여 스크래핑 하기\n",
    "\n",
    "Image, 기사제목, 기사링크\n",
    "\n",
    "뉴스기사의 Image를 출력 하세요 \n",
    "1) Image의 도메인이름이 포함된 경로와 src 속성의 경로를 합치려면 urljoin 함수를 사용하세요.\n",
    "    from urllib.parse import urljoin\n",
    "    \n",
    "    url = ‘https://news.nate.com/recent?mid=n0100’\n",
    "    src=’ //thumbnews.nateimg.co.kr/news90///news.nateimg.co.kr/orgImg/na/2025/07/23/7408335_high.jpg’\n",
    "\n",
    "2) Image 출력은 Image 클래스와 display 함수를 사용하세요.\n",
    "    from IPython.display import Image, display\n",
    "\n",
    "3) img 엘리먼트의 존재 여부를 체크하신 후에 src 속성의 이미지를 경로를 추출하기\n",
    "  => Image 가 없는 뉴스도 있기 때문에 \n"
   ]
  },
  {
   "cell_type": "code",
   "execution_count": 16,
   "id": "6e8a771b",
   "metadata": {},
   "outputs": [
    {
     "name": "stdout",
     "output_type": "stream",
     "text": [
      "======> https://news.nate.com/section?mid=n0200 정치 뉴스 <======\n",
      "<class 'bs4.element.Tag'>\n"
     ]
    },
    {
     "data": {
      "text/html": [
       "<img src=\"https://thumbnews.nateimg.co.kr/news90///news.nateimg.co.kr/orgImg/cb/2025/07/25/202507251547478627_0.jpg\"/>"
      ],
      "text/plain": [
       "<IPython.core.display.Image object>"
      ]
     },
     "metadata": {},
     "output_type": "display_data"
    },
    {
     "name": "stdout",
     "output_type": "stream",
     "text": [
      "//news.nate.com/view/20250725n24823?mid=n0200\n",
      "제목: 이재명 \"해수부 연말 이전 가능?\"…전재수 \"올 수 있다\" 즉답에 박수\n",
      "<class 'bs4.element.Tag'>\n"
     ]
    },
    {
     "data": {
      "text/html": [
       "<img src=\"https://thumbnews.nateimg.co.kr/news90///news.nateimg.co.kr/orgImg/ed/2025/07/25/PS25072500814.jpg\"/>"
      ],
      "text/plain": [
       "<IPython.core.display.Image object>"
      ]
     },
     "metadata": {},
     "output_type": "display_data"
    },
    {
     "name": "stdout",
     "output_type": "stream",
     "text": [
      "//news.nate.com/view/20250725n24006?mid=n0200\n",
      "제목: 김윤덕 국토부 장관 후보자 \"수도권 주택공급 방안 적기 마련\"\n",
      "<class 'bs4.element.Tag'>\n"
     ]
    },
    {
     "data": {
      "text/html": [
       "<img src=\"https://thumbnews.nateimg.co.kr/news90///news.nateimg.co.kr/orgImg/ed/2025/07/25/PS25072500023.jpg\"/>"
      ],
      "text/plain": [
       "<IPython.core.display.Image object>"
      ]
     },
     "metadata": {},
     "output_type": "display_data"
    },
    {
     "name": "stdout",
     "output_type": "stream",
     "text": [
      "//news.nate.com/view/20250725n21734?mid=n0200\n",
      "제목: 김정은 딸 주애 '폭풍성장'에 \"키는 계급\"…北 '키크는 약' 열풍\n",
      "<class 'bs4.element.Tag'>\n"
     ]
    },
    {
     "data": {
      "text/html": [
       "<img src=\"https://thumbnews.nateimg.co.kr/news90///news.nateimg.co.kr/orgImg/ns/2025/07/25/NISI20250425_0020785468_web.jpg\"/>"
      ],
      "text/plain": [
       "<IPython.core.display.Image object>"
      ]
     },
     "metadata": {},
     "output_type": "display_data"
    },
    {
     "name": "stdout",
     "output_type": "stream",
     "text": [
      "//news.nate.com/view/20250725n19562?mid=n0200\n",
      "제목: 韓공군 수송기, 영공 무단 진입에 日 \"유감…방지 조치 요청\"\n",
      "<class 'bs4.element.Tag'>\n"
     ]
    },
    {
     "data": {
      "text/html": [
       "<img src=\"https://thumbnews.nateimg.co.kr/news90///news.nateimg.co.kr/orgImg/hk/2025/07/25/ZA.40413781.1.jpg\"/>"
      ],
      "text/plain": [
       "<IPython.core.display.Image object>"
      ]
     },
     "metadata": {},
     "output_type": "display_data"
    },
    {
     "name": "stdout",
     "output_type": "stream",
     "text": [
      "//news.nate.com/view/20250725n19014?mid=n0200\n",
      "제목: '당원권 3년 정지' 권영세 '반발'…권성동 징계 제외 이유는\n",
      "<class 'bs4.element.Tag'>\n"
     ]
    },
    {
     "data": {
      "text/html": [
       "<img src=\"https://thumbnews.nateimg.co.kr/news90///news.nateimg.co.kr/orgImg/kx/2025/07/25/2025072513442423086_1753418666_0028449966.jpg\"/>"
      ],
      "text/plain": [
       "<IPython.core.display.Image object>"
      ]
     },
     "metadata": {},
     "output_type": "display_data"
    },
    {
     "name": "stdout",
     "output_type": "stream",
     "text": [
      "//news.nate.com/view/20250725n18000?mid=n0200\n",
      "제목: 정동영, 취임 후 '판문점'으로…\"남북 연락채널 복원 급선무\"\n",
      "<class 'bs4.element.Tag'>\n"
     ]
    },
    {
     "data": {
      "text/html": [
       "<img src=\"https://thumbnews.nateimg.co.kr/news90///news.nateimg.co.kr/orgImg/jt/2025/07/15/20250715193209647001.jpg\"/>"
      ],
      "text/plain": [
       "<IPython.core.display.Image object>"
      ]
     },
     "metadata": {},
     "output_type": "display_data"
    },
    {
     "name": "stdout",
     "output_type": "stream",
     "text": [
      "//news.nate.com/view/20250715n34991?mid=n0200\n",
      "제목: 권오을 '정치 이력' 물고늘어지더니…\"꿀 빠는 인생\" 원색적 공격\n",
      "<class 'bs4.element.Tag'>\n"
     ]
    },
    {
     "data": {
      "text/html": [
       "<img src=\"https://thumbnews.nateimg.co.kr/news90///news.nateimg.co.kr/orgImg/jt/2025/07/15/20250715193039534001.jpg\"/>"
      ],
      "text/plain": [
       "<IPython.core.display.Image object>"
      ]
     },
     "metadata": {},
     "output_type": "display_data"
    },
    {
     "name": "stdout",
     "output_type": "stream",
     "text": [
      "//news.nate.com/view/20250715n34903?mid=n0200\n",
      "제목: 안규백 \"현정부 임기 내 전작권 전환 목표\"…대통령실 \"개인 의견\"\n",
      "<class 'bs4.element.Tag'>\n"
     ]
    },
    {
     "data": {
      "text/html": [
       "<img src=\"https://thumbnews.nateimg.co.kr/news90///news.nateimg.co.kr/orgImg/na/2025/07/25/7412856_high.jpg\"/>"
      ],
      "text/plain": [
       "<IPython.core.display.Image object>"
      ]
     },
     "metadata": {},
     "output_type": "display_data"
    },
    {
     "name": "stdout",
     "output_type": "stream",
     "text": [
      "//news.nate.com/view/20250725n15249?mid=n0200\n",
      "제목: [단독]\"이상민이 전화해 '단전·단수' 협조 지시\"…내란특검, 진술 확보\n",
      "<class 'bs4.element.Tag'>\n"
     ]
    },
    {
     "data": {
      "text/html": [
       "<img src=\"https://thumbnews.nateimg.co.kr/news90///news.nateimg.co.kr/orgImg/hi/2025/07/25/b9314855-a72a-42e5-90aa-943f4211090a.jpg\"/>"
      ],
      "text/plain": [
       "<IPython.core.display.Image object>"
      ]
     },
     "metadata": {},
     "output_type": "display_data"
    },
    {
     "name": "stdout",
     "output_type": "stream",
     "text": [
      "//news.nate.com/view/20250725n11373?mid=n0200\n",
      "제목: 박찬대 \"'尹 방패' 국민의힘 45명 제명해야\"…송언석 \"야당 말살 선언\"\n",
      "<class 'bs4.element.Tag'>\n"
     ]
    },
    {
     "data": {
      "text/html": [
       "<img src=\"https://thumbnews.nateimg.co.kr/news90///news.nateimg.co.kr/orgImg/jo/2025/07/25/3598caea-5f34-42f8-9bf3-c88527651a64.jpg\"/>"
      ],
      "text/plain": [
       "<IPython.core.display.Image object>"
      ]
     },
     "metadata": {},
     "output_type": "display_data"
    },
    {
     "name": "stdout",
     "output_type": "stream",
     "text": [
      "//news.nate.com/view/20250725n09350?mid=n0200\n",
      "제목: 안철수 \"왜 김어준만 대통령실 합류? 보수 유튜버도 허용해라\"\n",
      "<class 'bs4.element.Tag'>\n"
     ]
    },
    {
     "data": {
      "text/html": [
       "<img src=\"https://thumbnews.nateimg.co.kr/news90///news.nateimg.co.kr/orgImg/ny/2025/07/25/AKR20250725074226125_01_i.jpg\"/>"
      ],
      "text/plain": [
       "<IPython.core.display.Image object>"
      ]
     },
     "metadata": {},
     "output_type": "display_data"
    },
    {
     "name": "stdout",
     "output_type": "stream",
     "text": [
      "//news.nate.com/view/20250725n03494?mid=n0200\n",
      "제목: 'VIP 격노설' 처음 입 연 이종섭 부관…\"尹 통화 원한다는 전화받아\"\n",
      "<class 'bs4.element.Tag'>\n"
     ]
    },
    {
     "data": {
      "text/html": [
       "<img src=\"https://thumbnews.nateimg.co.kr/news90///news.nateimg.co.kr/orgImg/cb/2025/07/25/202507242139413037_0.jpg\"/>"
      ],
      "text/plain": [
       "<IPython.core.display.Image object>"
      ]
     },
     "metadata": {},
     "output_type": "display_data"
    },
    {
     "name": "stdout",
     "output_type": "stream",
     "text": [
      "//news.nate.com/view/20250725n01318?mid=n0200\n",
      "제목: [단독]드론사, 국과연에 \"무인기 가용한 물량 다 달라\" 무작정 요청\n",
      "<class 'bs4.element.Tag'>\n"
     ]
    },
    {
     "data": {
      "text/html": [
       "<img src=\"https://thumbnews.nateimg.co.kr/news90///news.nateimg.co.kr/orgImg/do/2025/07/25/131999429.1.jpg\"/>"
      ],
      "text/plain": [
       "<IPython.core.display.Image object>"
      ]
     },
     "metadata": {},
     "output_type": "display_data"
    },
    {
     "name": "stdout",
     "output_type": "stream",
     "text": [
      "//news.nate.com/view/20250725n00855?mid=n0200\n",
      "제목: 尹 '재판 보이콧' 재구속후 3차례 모두 불출석…특검, 구인영장 요청\n",
      "<class 'bs4.element.Tag'>\n"
     ]
    },
    {
     "data": {
      "text/html": [
       "<img src=\"https://thumbnews.nateimg.co.kr/news90///news.nateimg.co.kr/orgImg/ch/2025/07/25/ch_1753392785122_310982_0.jpg\"/>"
      ],
      "text/plain": [
       "<IPython.core.display.Image object>"
      ]
     },
     "metadata": {},
     "output_type": "display_data"
    },
    {
     "name": "stdout",
     "output_type": "stream",
     "text": [
      "//news.nate.com/view/20250725n00454?mid=n0200\n",
      "제목: 폭우 피해 막았는데…'4대강' 원점 돌리겠다는 환경장관\n"
     ]
    }
   ],
   "source": [
    "import requests\n",
    "from bs4 import BeautifulSoup\n",
    "from urllib.parse import urljoin\n",
    "from IPython.display import Image, display\n",
    "\n",
    "section_dict = {'최신뉴스':100, '정치':200,'경제':300,'사회':400,'세계':500,'IT/과학':600}\n",
    "\n",
    "def scraping_news(section_name):\n",
    "    sid = section_dict[section_name]\n",
    "\n",
    "    #최신뉴스와 섹션뉴스 url\n",
    "    if section_name == '최신뉴스' :\n",
    "        news_url = \"https://news.nate.com/recent?mid=n0100\"\n",
    "    else:\n",
    "        news_url = f\"https://news.nate.com/section?mid=n0{sid}\"\n",
    "    \n",
    "    print(f'======> {news_url} {section_name} 뉴스 <======')\n",
    "\n",
    "    req_header ={\n",
    "    'referer':news_url,\n",
    "    \"user-agent\": \"Mozilla/5.0 (Windows NT 10.0; Win64; x64) AppleWebKit/537.36 (KHTML, like Gecko) Chrome/104.0.0.0 Safari/537.36\"}\n",
    "\n",
    "    # requests 의 get() 함수 호출하기\n",
    "    res = requests.get(news_url, headers = req_header)\n",
    "    res.encoding = 'euc-kr'\n",
    "\n",
    "    if (res.ok):\n",
    "        html = res.text\n",
    "        soup = BeautifulSoup(html, 'html.parser')\n",
    "        div_tags = soup.select('div.mlt01')\n",
    "\n",
    "        for div_tag in div_tags :\n",
    "            print(type(div_tag))\n",
    "            if div_tag.select_one('img'):\n",
    "                img_tag = div_tag.select_one('img')\n",
    "                relative_img_url = img_tag['src']\n",
    "                img_url = urljoin(news_url,relative_img_url)\n",
    "                img_from_url = Image(url=img_url)\n",
    "                display(img_from_url)\n",
    "            else:\n",
    "                pass\n",
    "            \n",
    "            a_tag = div_tag.select_one('a')\n",
    "            link = a_tag['href']\n",
    "            print(link)\n",
    "\n",
    "            if a_tag.select_one('h2.tit'):\n",
    "                h2_tag = a_tag.select_one('h2.tit')\n",
    "                if h2_tag:\n",
    "                    title = h2_tag.text.strip()\n",
    "                    print(f\"제목: {title}\")\n",
    "                else:\n",
    "                    print(\"제목을 담고 있는 h2 태그를 찾을 수 없습니다.\")\n",
    "            else:\n",
    "                print(\"class='tb'인 span 태그를 찾을 수 없습니다.\")\n",
    "    else :\n",
    "        # 응답(response)이 Error 이면 status code 출력  \n",
    "        print(f'Error code = {res.status_code}')\n",
    "\n",
    "    \n",
    "    \n",
    "\n",
    "scraping_news('정치')"
   ]
  }
 ],
 "metadata": {
  "kernelspec": {
   "display_name": "base",
   "language": "python",
   "name": "python3"
  },
  "language_info": {
   "codemirror_mode": {
    "name": "ipython",
    "version": 3
   },
   "file_extension": ".py",
   "mimetype": "text/x-python",
   "name": "python",
   "nbconvert_exporter": "python",
   "pygments_lexer": "ipython3",
   "version": "3.12.7"
  }
 },
 "nbformat": 4,
 "nbformat_minor": 5
}
