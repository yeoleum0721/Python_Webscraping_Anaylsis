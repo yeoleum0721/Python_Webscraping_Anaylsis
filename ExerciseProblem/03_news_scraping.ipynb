{
 "cells": [
  {
   "cell_type": "markdown",
   "id": "e553215d",
   "metadata": {},
   "source": [
    "-1. Nate 뉴스기사 제목 스크래핑하기 (필수)\n",
    "https://news.nate.com/recent?mid=n0100\n",
    "최신뉴스, 정치 , 경제, 사회, 세계, IT/과학 \n",
    "6개의 섹션의 뉴스를 출력하는 함수를 생성하여 스크래핑 하기\n",
    "\n",
    "Image, 기사제목, 기사링크\n",
    "\n",
    "뉴스기사의 Image를 출력 하세요 \n",
    "1) Image의 도메인이름이 포함된 경로와 src 속성의 경로를 합치려면 urljoin 함수를 사용하세요.\n",
    "    from urllib.parse import urljoin\n",
    "    \n",
    "    url = ‘https://news.nate.com/recent?mid=n0100’\n",
    "    src=’ //thumbnews.nateimg.co.kr/news90///news.nateimg.co.kr/orgImg/na/2025/07/23/7408335_high.jpg’\n",
    "\n",
    "2) Image 출력은 Image 클래스와 display 함수를 사용하세요.\n",
    "    from IPython.display import Image, display\n",
    "\n",
    "3) img 엘리먼트의 존재 여부를 체크하신 후에 src 속성의 이미지를 경로를 추출하기\n",
    "  => Image 가 없는 뉴스도 있기 때문에 \n"
   ]
  },
  {
   "cell_type": "code",
   "execution_count": 46,
   "id": "6e8a771b",
   "metadata": {},
   "outputs": [
    {
     "name": "stdout",
     "output_type": "stream",
     "text": [
      "======> https://news.nate.com/section?mid=n0200 정치 뉴스 <======\n",
      "15\n"
     ]
    },
    {
     "data": {
      "text/html": [
       "<img src=\"https://thumbnews.nateimg.co.kr/news90///news.nateimg.co.kr/orgImg/hn/2025/07/23/20250723503683.jpg\"/>"
      ],
      "text/plain": [
       "<IPython.core.display.Image object>"
      ]
     },
     "metadata": {},
     "output_type": "display_data"
    },
    {
     "name": "stdout",
     "output_type": "stream",
     "text": [
      "//news.nate.com/view/20250723n36774?mid=n0200\n",
      "제목: [단독] 강선우 사퇴, 이 대통령이 결단 내렸다…김현지 비서관 통해 뜻 전달\n"
     ]
    },
    {
     "data": {
      "text/html": [
       "<img src=\"https://thumbnews.nateimg.co.kr/news90///news.nateimg.co.kr/orgImg/jt/2025/07/23/20250723202626229001.jpg\"/>"
      ],
      "text/plain": [
       "<IPython.core.display.Image object>"
      ]
     },
     "metadata": {},
     "output_type": "display_data"
    },
    {
     "name": "stdout",
     "output_type": "stream",
     "text": [
      "//news.nate.com/view/20250723n37642?mid=n0200\n",
      "제목: '친길 vs 반길' 갈라진 국힘 전대…'수사 거론' 주진우도 출사표\n"
     ]
    },
    {
     "data": {
      "text/html": [
       "<img src=\"https://thumbnews.nateimg.co.kr/news90///news.nateimg.co.kr/orgImg/na/2025/07/23/7392529_high.jpg\"/>"
      ],
      "text/plain": [
       "<IPython.core.display.Image object>"
      ]
     },
     "metadata": {},
     "output_type": "display_data"
    },
    {
     "name": "stdout",
     "output_type": "stream",
     "text": [
      "//news.nate.com/view/20250723n30784?mid=n0200\n",
      "제목: 강선우 전격 사퇴에 민주당 '발칵'…\"좀더 빨랐으면\" \"힘내시라\"\n"
     ]
    },
    {
     "data": {
      "text/html": [
       "<img src=\"https://thumbnews.nateimg.co.kr/news90///news.nateimg.co.kr/orgImg/fn/2025/07/23/202507231034246516_l.jpg\"/>"
      ],
      "text/plain": [
       "<IPython.core.display.Image object>"
      ]
     },
     "metadata": {},
     "output_type": "display_data"
    },
    {
     "name": "stdout",
     "output_type": "stream",
     "text": [
      "//news.nate.com/view/20250723n26831?mid=n0200\n",
      "제목: \"오세훈 '극우 유튜버' 됐나\" 비판에 \"안보철학 전달한 것\"\n"
     ]
    },
    {
     "data": {
      "text/html": [
       "<img src=\"https://thumbnews.nateimg.co.kr/news90///news.nateimg.co.kr/orgImg/fn/2025/07/23/202507151925012739_l.jpg\"/>"
      ],
      "text/plain": [
       "<IPython.core.display.Image object>"
      ]
     },
     "metadata": {},
     "output_type": "display_data"
    },
    {
     "name": "stdout",
     "output_type": "stream",
     "text": [
      "//news.nate.com/view/20250723n20965?mid=n0200\n",
      "제목: \"APEC후원 해외기업은 하나도 없네\"…10대 국내기업은 현대차뿐인 이유가?\n"
     ]
    },
    {
     "data": {
      "text/html": [
       "<img src=\"https://thumbnews.nateimg.co.kr/news90///news.nateimg.co.kr/orgImg/se/2025/07/23/2GVGN24JMN_4.jpg\"/>"
      ],
      "text/plain": [
       "<IPython.core.display.Image object>"
      ]
     },
     "metadata": {},
     "output_type": "display_data"
    },
    {
     "name": "stdout",
     "output_type": "stream",
     "text": [
      "//news.nate.com/view/20250723n19524?mid=n0200\n",
      "제목: [단독]특검, 오산 공군기지 레이더시설 압색···'평양 무인기' 이적죄 정조준\n"
     ]
    },
    {
     "data": {
      "text/html": [
       "<img src=\"https://thumbnews.nateimg.co.kr/news90///news.nateimg.co.kr/orgImg/hn/2025/07/23/53_17532492058907_6917532491720818.png\"/>"
      ],
      "text/plain": [
       "<IPython.core.display.Image object>"
      ]
     },
     "metadata": {},
     "output_type": "display_data"
    },
    {
     "name": "stdout",
     "output_type": "stream",
     "text": [
      "//news.nate.com/view/20250723n22422?mid=n0200\n",
      "제목: 윤석열 '에어컨 방' 하루 2.3회…시간제한 없는 '변호인 접견' 찬스?\n"
     ]
    },
    {
     "data": {
      "text/html": [
       "<img src=\"https://thumbnews.nateimg.co.kr/news90///news.nateimg.co.kr/orgImg/kx/2025/07/23/2025072314345515290_1753248895_0028438824.jpg\"/>"
      ],
      "text/plain": [
       "<IPython.core.display.Image object>"
      ]
     },
     "metadata": {},
     "output_type": "display_data"
    },
    {
     "name": "stdout",
     "output_type": "stream",
     "text": [
      "//news.nate.com/view/20250723n22494?mid=n0200\n",
      "제목: 李, 색깔별 소비 쿠폰에 \"인권 감수성 부족\" 강력 질타\n"
     ]
    },
    {
     "data": {
      "text/html": [
       "<img src=\"https://thumbnews.nateimg.co.kr/news90///news.nateimg.co.kr/orgImg/mh/2025/07/23/news-p.v1.20250723.7e7da489d72f49a9b2a8bdda3e4f6787_P1.jpg\"/>"
      ],
      "text/plain": [
       "<IPython.core.display.Image object>"
      ]
     },
     "metadata": {},
     "output_type": "display_data"
    },
    {
     "name": "stdout",
     "output_type": "stream",
     "text": [
      "//news.nate.com/view/20250723n09836?mid=n0200\n",
      "제목: 홍준표 \"국힘 딱하다, 정청래가 가만 놔두겠나?\"\n"
     ]
    },
    {
     "data": {
      "text/html": [
       "<img src=\"https://thumbnews.nateimg.co.kr/news90///news.nateimg.co.kr/orgImg/na/2025/07/23/7408350_high.jpg\"/>"
      ],
      "text/plain": [
       "<IPython.core.display.Image object>"
      ]
     },
     "metadata": {},
     "output_type": "display_data"
    },
    {
     "name": "stdout",
     "output_type": "stream",
     "text": [
      "//news.nate.com/view/20250723n12909?mid=n0200\n",
      "제목: '당대표 출마' 장동혁 \"내가 극우? 혁신이라며 당 싸움터 만들어\"(종합)\n"
     ]
    },
    {
     "data": {
      "text/html": [
       "<img src=\"https://thumbnews.nateimg.co.kr/news90///news.nateimg.co.kr/orgImg/sg/2025/07/23/20250722516299.jpg\"/>"
      ],
      "text/plain": [
       "<IPython.core.display.Image object>"
      ]
     },
     "metadata": {},
     "output_type": "display_data"
    },
    {
     "name": "stdout",
     "output_type": "stream",
     "text": [
      "//news.nate.com/view/20250723n02192?mid=n0200\n",
      "제목: '의사 출신' 정은경 복지장관 취임…\"국민 중심 의료개혁 추진하겠다\"\n"
     ]
    },
    {
     "data": {
      "text/html": [
       "<img src=\"https://thumbnews.nateimg.co.kr/news90///news.nateimg.co.kr/orgImg/hr/2025/07/23/news-p.v1.20250608.453edaab2ac14a1c9b0e62d285a5cfa6_P1.png\"/>"
      ],
      "text/plain": [
       "<IPython.core.display.Image object>"
      ]
     },
     "metadata": {},
     "output_type": "display_data"
    },
    {
     "name": "stdout",
     "output_type": "stream",
     "text": [
      "//news.nate.com/view/20250723n06655?mid=n0200\n",
      "제목: 초선 주진우, 국민의힘 당권 도전…\"젊고 강한 보수로 탈바꿈\"\n"
     ]
    },
    {
     "data": {
      "text/html": [
       "<img src=\"https://thumbnews.nateimg.co.kr/news90///news.nateimg.co.kr/orgImg/na/2025/07/23/5248888_high.jpg\"/>"
      ],
      "text/plain": [
       "<IPython.core.display.Image object>"
      ]
     },
     "metadata": {},
     "output_type": "display_data"
    },
    {
     "name": "stdout",
     "output_type": "stream",
     "text": [
      "//news.nate.com/view/20250723n05453?mid=n0200\n",
      "제목: 안철수 \"尹 들이받고 싶었다…다 줄 것처럼 해놓고 복지장관 딱 한번 제의\"\n"
     ]
    },
    {
     "data": {
      "text/html": [
       "<img src=\"https://thumbnews.nateimg.co.kr/news90///news.nateimg.co.kr/orgImg/na/2025/07/23/7125677_high.jpg\"/>"
      ],
      "text/plain": [
       "<IPython.core.display.Image object>"
      ]
     },
     "metadata": {},
     "output_type": "display_data"
    },
    {
     "name": "stdout",
     "output_type": "stream",
     "text": [
      "//news.nate.com/view/20250723n05676?mid=n0200\n",
      "제목: [단독] \"언론사 단전·단수 가능한가\"…이상민 소환 앞두고 진술 확보\n"
     ]
    },
    {
     "data": {
      "text/html": [
       "<img src=\"https://thumbnews.nateimg.co.kr/news90///news.nateimg.co.kr/orgImg/ch/2025/07/23/ch_1753221304493_70514_0.jpg\"/>"
      ],
      "text/plain": [
       "<IPython.core.display.Image object>"
      ]
     },
     "metadata": {},
     "output_type": "display_data"
    },
    {
     "name": "stdout",
     "output_type": "stream",
     "text": [
      "//news.nate.com/view/20250723n02717?mid=n0200\n",
      "제목: 무려 '29박 30일'…최장 포상휴가 받은 병사들의 정체\n"
     ]
    }
   ],
   "source": [
    "import requests\n",
    "from bs4 import BeautifulSoup\n",
    "from urllib.parse import urljoin\n",
    "from IPython.display import Image, display\n",
    "\n",
    "section_dict = {'최신뉴스':100, '정치':200,'경제':300,'사회':400,'세계':500,'IT/과학':600}\n",
    "\n",
    "def scraping_news(section_name):\n",
    "    sid = section_dict[section_name]\n",
    "\n",
    "    #최신뉴스와 섹션뉴스 url\n",
    "    if section_name == '최신뉴스' :\n",
    "        news_url = \"https://news.nate.com/recent?mid=n0100\"\n",
    "    else:\n",
    "        news_url = f\"https://news.nate.com/section?mid=n0{sid}\"\n",
    "    \n",
    "    print(f'======> {news_url} {section_name} 뉴스 <======')\n",
    "\n",
    "    req_header ={\n",
    "    'referer':news_url,\n",
    "    \"user-agent\": \"Mozilla/5.0 (Windows NT 10.0; Win64; x64) AppleWebKit/537.36 (KHTML, like Gecko) Chrome/104.0.0.0 Safari/537.36\"}\n",
    "\n",
    "    # requests 의 get() 함수 호출하기\n",
    "    res = requests.get(news_url, headers = req_header)\n",
    "    res.encoding = 'euc-kr'\n",
    "\n",
    "    if (res.ok):\n",
    "        html = res.text\n",
    "        soup = BeautifulSoup(html, 'html.parser')\n",
    "        a_tags = soup.select('div.mlt01 a')\n",
    "        print(len(a_tags))\n",
    "\n",
    "        \n",
    "        for a_tag in a_tags :\n",
    "            if a_tag.find('img'):\n",
    "                img_tag = a_tag.find('img')\n",
    "                relative_img_url = img_tag.get('src')\n",
    "                img_url = urljoin(news_url,relative_img_url)\n",
    "                \n",
    "                img_from_url = Image(url=img_url)\n",
    "                display(img_from_url)\n",
    "            else:\n",
    "                pass\n",
    "\n",
    "            link = a_tag['href']\n",
    "            print(link)\t\n",
    "            \n",
    "            span_tb_tag = a_tag.find('span', class_='tb')\n",
    "\n",
    "            if span_tb_tag:\n",
    "                # 2. 찾은 <span class=\"tb\"> 태그 안에서 class가 'tit'인 <h2> 태그를 찾습니다.\n",
    "                h2_tag = span_tb_tag.find('h2', class_='tit')\n",
    "                if h2_tag:\n",
    "                    title = h2_tag.text.strip()\n",
    "                    print(f\"제목: {title}\")\n",
    "                else:\n",
    "                    print(\"제목을 담고 있는 h2 태그를 찾을 수 없습니다.\")\n",
    "            else:\n",
    "                print(\"class='tb'인 span 태그를 찾을 수 없습니다.\")\n",
    "    else :\n",
    "        # 응답(response)이 Error 이면 status code 출력  \n",
    "        print(f'Error code = {res.status_code}')\n",
    "\n",
    "    \n",
    "    \n",
    "\n",
    "scraping_news('정치')"
   ]
  }
 ],
 "metadata": {
  "kernelspec": {
   "display_name": "base",
   "language": "python",
   "name": "python3"
  },
  "language_info": {
   "codemirror_mode": {
    "name": "ipython",
    "version": 3
   },
   "file_extension": ".py",
   "mimetype": "text/x-python",
   "name": "python",
   "nbconvert_exporter": "python",
   "pygments_lexer": "ipython3",
   "version": "3.12.7"
  }
 },
 "nbformat": 4,
 "nbformat_minor": 5
}
