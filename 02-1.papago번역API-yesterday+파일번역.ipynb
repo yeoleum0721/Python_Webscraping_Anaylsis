{
 "cells": [
  {
   "cell_type": "markdown",
   "metadata": {},
   "source": [
    "### requests의  PrepardRequest\n",
    "* [PrepardRequest](https://requests.readthedocs.io/en/latest/user/advanced/#prepared-requests)"
   ]
  },
  {
   "cell_type": "code",
   "execution_count": null,
   "metadata": {},
   "outputs": [],
   "source": [
    "from requests import Request, Session\n",
    "\n",
    "NAVER_CLIENT_ID = 'ZAZjlfXS4P5FW5DtE0wg'\n",
    "NAVER_CLIENT_SECRET = 'RNbe1ikysg'\n",
    "\n",
    "\n",
    "def get_text_list():\n",
    "    lists = []\n",
    "    with open('data/yesterday.txt', 'r',encoding=\"utf8\") as file:\n",
    "        contents = file.read()\n",
    "        lists = contents.split(\"\\n\")\n",
    "\n",
    "    return lists\n",
    "\n",
    "def save_to_file(list):\n",
    "    with open('data/yesterday.translated_ver2.txt', 'w',encoding=\"utf8\") as file:\n",
    "        file.writelines(list)\n",
    "\n",
    "def main():\n",
    "    # session 객체생성\n",
    "    session = Session()\n",
    "    # 요청헤더 dict 선언\n",
    "    headers = {\n",
    "        'X-Naver-Client-Id': NAVER_CLIENT_ID,\n",
    "        'X-Naver-Client-Secret': NAVER_CLIENT_SECRET,\n",
    "    }\n",
    "    url = 'https://openapi.naver.com/v1/papago/n2mt'\n",
    "\n",
    "    lists = get_text_list()\n",
    "    lists = [ i for i in lists if len(i) != 0] # '' 문자열 제거\n",
    "\n",
    "    result_list = []\n",
    "    payload = {\n",
    "        'source': 'en',\n",
    "        'target': 'ko',\n",
    "    }\n",
    "    for en_text in lists:\n",
    "        payload['text'] = en_text\n",
    "        # request 객체생성\n",
    "        req = Request('POST', url, data=payload, headers=headers)\n",
    "        # PreparedRequest 객체생성\n",
    "        prepared = req.prepare()\n",
    "        #print(type(prepared))\n",
    "        # request를 보내고 response 객체생성\n",
    "        res = session.send(prepared)\n",
    "        \n",
    "        print('send original text : ', en_text)\n",
    "        ko_text = ''\n",
    "        \n",
    "        try:\n",
    "            ko_text = res.json()['message']['result']['translatedText']\n",
    "        except Exception as err:\n",
    "            print('에러 발생 ',res.json())\n",
    "            break\n",
    "\n",
    "        print('translated to : ', ko_text)\n",
    "        result_list.append(en_text+ '\\n')\n",
    "        result_list.append(ko_text + '\\n')\n",
    "\n",
    "    save_to_file(result_list)\n",
    "    print('job completed..')\n",
    "\n",
    "\n",
    "main()\n"
   ]
  }
 ],
 "metadata": {
  "kernelspec": {
   "display_name": "Python 3 (ipykernel)",
   "language": "python",
   "name": "python3"
  },
  "language_info": {
   "codemirror_mode": {
    "name": "ipython",
    "version": 3
   },
   "file_extension": ".py",
   "mimetype": "text/x-python",
   "name": "python",
   "nbconvert_exporter": "python",
   "pygments_lexer": "ipython3",
   "version": "3.12.4"
  }
 },
 "nbformat": 4,
 "nbformat_minor": 4
}
