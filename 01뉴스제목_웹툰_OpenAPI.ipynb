{
 "cells": [
  {
   "cell_type": "markdown",
   "id": "eb0bfa44",
   "metadata": {},
   "source": [
    "## 1. 뉴스제목 가져오기\n",
    "* user-agent 요청헤더를 반드시 설정해야 한다."
   ]
  },
  {
   "cell_type": "code",
   "execution_count": 1,
   "id": "f0d27781",
   "metadata": {},
   "outputs": [
    {
     "name": "stdout",
     "output_type": "stream",
     "text": [
      "Name: requests\n",
      "Version: 2.32.3\n",
      "Summary: Python HTTP for Humans.\n",
      "Home-page: https://requests.readthedocs.io\n",
      "Author: Kenneth Reitz\n",
      "Author-email: me@kennethreitz.org\n",
      "License: Apache-2.0\n",
      "Location: C:\\Users\\user\\anaconda3\\Lib\\site-packages\n",
      "Requires: certifi, charset-normalizer, idna, urllib3\n",
      "Required-by: anaconda-catalogs, anaconda-client, anaconda-cloud-auth, anaconda-project, conda, conda-build, conda-repo-cli, conda_package_streaming, cookiecutter, datashader, jupyterlab_server, panel, requests-file, requests-toolbelt, Sphinx, streamlit, tldextract\n"
     ]
    }
   ],
   "source": [
    "# requests 라이브러리 설치여부 \n",
    "!pip show requests"
   ]
  },
  {
   "cell_type": "code",
   "execution_count": 2,
   "id": "f7798ea8",
   "metadata": {},
   "outputs": [
    {
     "name": "stdout",
     "output_type": "stream",
     "text": [
      "Name: beautifulsoup4\n",
      "Version: 4.12.3\n",
      "Summary: Screen-scraping library\n",
      "Home-page: https://www.crummy.com/software/BeautifulSoup/bs4/\n",
      "Author: \n",
      "Author-email: Leonard Richardson <leonardr@segfault.org>\n",
      "License: MIT License\n",
      "Location: C:\\Users\\user\\anaconda3\\Lib\\site-packages\n",
      "Requires: soupsieve\n",
      "Required-by: conda-build, nbconvert\n"
     ]
    }
   ],
   "source": [
    "# beautifulsoup4 라이브러리 설치여부 확인\n",
    "!pip show beautifulsoup4"
   ]
  },
  {
   "cell_type": "code",
   "execution_count": 3,
   "id": "bf80a429",
   "metadata": {},
   "outputs": [],
   "source": [
    "# reqeusts import\n",
    "import requests\n",
    "# bs4 클래스 import\n",
    "import bs4\n",
    "#BeautifulSoup import\n",
    "from bs4 import BeautifulSoup"
   ]
  },
  {
   "cell_type": "code",
   "execution_count": 4,
   "id": "9788d6ac",
   "metadata": {},
   "outputs": [
    {
     "name": "stdout",
     "output_type": "stream",
     "text": [
      "requests 버전:2.32.3\n",
      "bs4 버전:4.12.3\n"
     ]
    }
   ],
   "source": [
    "# requests, bs4 버전 확인하기\n",
    "print(f'requests 버전:{requests.__version__}')\n",
    "print(f'bs4 버전:{bs4.__version__}')\n"
   ]
  },
  {
   "cell_type": "markdown",
   "id": "ccb91def-cde3-4aeb-b0e5-2e7233500333",
   "metadata": {},
   "source": [
    "### 1. 뉴스 제목 추출하기"
   ]
  },
  {
   "cell_type": "code",
   "execution_count": 8,
   "id": "94c12fd6",
   "metadata": {},
   "outputs": [
    {
     "name": "stdout",
     "output_type": "stream",
     "text": [
      "https://news.naver.com/section/105\n"
     ]
    }
   ],
   "source": [
    "# IT/과학 뉴스 \n",
    "req_param = {\n",
    "    'sid': 105\n",
    "}\n",
    "sid =104\n",
    "#url = f'https://news.naver.com/section/{sid}'\n",
    "url = 'https://news.naver.com/section/{sid}'.format(**req_param)\n",
    "print(url)\n"
   ]
  },
  {
   "cell_type": "code",
   "execution_count": null,
   "id": "4914c6c2",
   "metadata": {},
   "outputs": [],
   "source": [
    "\n",
    "#url = 'https://news.naver.com/section/{sid}'.format(**req_param)\n",
    "print(url)\n",
    "\n",
    "# 요청 헤더 설정 : 브라우저 정보\n",
    "req_header = {\n",
    "    \"user-agent\": \"Mozilla/5.0 (Windows NT 10.0; Win64; x64) AppleWebKit/537.36 (KHTML, like Gecko) Chrome/104.0.0.0 Safari/537.36\"\n",
    "}\n",
    "\n",
    " # requests 의 get() 함수 호출하기\n",
    "res = requests.get(url, headers = req_header)\n",
    "print(res.status_code,res.ok)\n",
    "print(type(res))\n",
    "print(res)\n",
    "\n",
    "# 응답(response)이 OK 이면\n",
    "# 응답 (response)에서 text 추출\n",
    "if (res.ok):\n",
    "    html = res.text\n",
    "\n",
    "    # BeautifulSoup 객체 생성\n",
    "    soup = BeautifulSoup(html, 'html.parser') \n",
    "    #print(soup)  \n",
    "    # CSS 선택자\n",
    "    # print(soup.select(\"div.sa_text a[href*='mnews/article']\")\n",
    "\n",
    "    '''\n",
    "       <div class='sa_text'> \n",
    "          <a href=\"https://n.news.naver.com/mnews/article/366/0001094461\">\n",
    "    '''\n",
    "\n",
    "    #a_tags = soup.select(\"div.sa_text a[href*='https://n.news.naver.com/mnews/article/']\")\n",
    "    a_tags = soup.select(\"div.sa_text a[href*='news/article/'].sa_text_title\")\n",
    "    print(len(a_tags))\n",
    "    print(type(a_tags)) #[Tag,Tag,Tag]\n",
    "    \n",
    "    # <a> 태그 리스트 순회하기 \n",
    "    for idx,a_tag in enumerate(a_tags,1):\n",
    "        if a_tag.text :\n",
    "            title = a_tag.text.strip()#제목\n",
    "            link = a_tag['href']#링크\n",
    "            print(f'{idx} {title} {link}') #제목과 링크 가져옴\n",
    "\n",
    " # 응답(response)이 Error 이면 status code 출력  \n",
    "else :\n",
    "    print(f'Error code = {res.status_code}')\n",
    "\n",
    "\n",
    "\n"
   ]
  },
  {
   "cell_type": "markdown",
   "id": "45640860-a449-4285-90d7-5f300292b461",
   "metadata": {},
   "source": [
    "### 1.1 뉴스제목 추출하는 함수 선언하기"
   ]
  },
  {
   "cell_type": "code",
   "execution_count": 54,
   "id": "9f2e4ef8",
   "metadata": {},
   "outputs": [],
   "source": [
    "import requests\n",
    "from bs4 import BeautifulSoup\n",
    "\n",
    "#section_dict = {100:'정치',101:'경제',102:'사회',103:'생활/문화',104:'세계',105:'IT/과학'}\n",
    "section_dict = {'정치':100,'경제':101,'사회':102,'생활/문화':103,'세계':104,'IT/과학':105}\n",
    "def print_news(section):  #print_new(103,'생활/문화') \n",
    "    sid = section_dict[section]\n",
    "    url = f'https://news.naver.com/section/{sid}'\n",
    "    print(f'{url} {section}뉴스')\n",
    "\n",
    "   # requests 의 get() 함수 호출하기\n",
    "    req_header = {\n",
    "    \"user-agent\": \"Mozilla/5.0 (Windows NT 10.0; Win64; x64) AppleWebKit/537.36 (KHTML, like Gecko) Chrome/104.0.0.0 Safari/537.36\"}\n",
    "\n",
    "    # requests 의 get() 함수 호출하기\n",
    "    res = requests.get(url, headers = req_header)\n",
    "    print(res.status_code,res.ok)\n",
    "\n",
    "    # 응답(response)이 OK 이면 응답 (response)에서 text 추출\n",
    "    if (res.ok):\n",
    "        html = res.text\n",
    "        soup = BeautifulSoup(html, 'html.parser')\n",
    "        #print(soup)\n",
    "\n",
    "        a_tags = soup.select(\"div.sa_text a[href*='news/article/'].sa_text_title\")\n",
    "        print(len(a_tags))\n",
    "\n",
    "    # <a> 태그 리스트 순회하기 \n",
    "        for idx,a_tag in enumerate(a_tags,1):\n",
    "            if a_tag.text :\n",
    "                title = a_tag.text.strip()\n",
    "                link = a_tag['href']\n",
    "                print(f'{idx} {title} {link}') \n",
    "    \n",
    "    else :\n",
    "    # 응답(response)이 Error 이면 status code 출력  \n",
    "        print(f'Error code = {res.status_code}')\n",
    "\n",
    "    \n"
   ]
  },
  {
   "cell_type": "code",
   "execution_count": null,
   "id": "858952c6",
   "metadata": {},
   "outputs": [],
   "source": [
    "print_news('세계')"
   ]
  },
  {
   "cell_type": "markdown",
   "id": "323196dc",
   "metadata": {},
   "source": [
    "### 2. Image 다운로드\n",
    "* referer 요청 헤더를 반드시 설정해야 한다."
   ]
  },
  {
   "cell_type": "code",
   "execution_count": null,
   "id": "c72d6cb1",
   "metadata": {},
   "outputs": [
    {
     "name": "stdout",
     "output_type": "stream",
     "text": [
      "True 200\n",
      "20250602191744_cca384380c15535d27af084e6b025b91_IMAG01_1.jpg\n",
      "Writing to 20250602191744_cca384380c15535d27af084e6b025b91_IMAG01_1.jpg(158,502bytes)\n",
      "True 200\n",
      "20250602191744_cca384380c15535d27af084e6b025b91_IMAG01_2.jpg\n",
      "Writing to 20250602191744_cca384380c15535d27af084e6b025b91_IMAG01_2.jpg(144,551bytes)\n",
      "True 200\n",
      "20250602191744_cca384380c15535d27af084e6b025b91_IMAG01_3.jpg\n",
      "Writing to 20250602191744_cca384380c15535d27af084e6b025b91_IMAG01_3.jpg(221,355bytes)\n"
     ]
    }
   ],
   "source": [
    "import requests\n",
    "import os\n",
    "\n",
    "req_header = {\n",
    "    'referer':'https://comic.naver.com/webtoon/detail?titleId=747269&no=266&week=wed', \n",
    "    \"user-agent\": \"Mozilla/5.0 (Windows NT 10.0; Win64; x64) AppleWebKit/537.36 (KHTML, like Gecko) Chrome/104.0.0.0 Safari/537.36\"}\n",
    "\n",
    "img_urls = [\n",
    "    'https://image-comic.pstatic.net/webtoon/747269/266/20250602191744_cca384380c15535d27af084e6b025b91_IMAG01_1.jpg',\n",
    "    'https://image-comic.pstatic.net/webtoon/747269/266/20250602191744_cca384380c15535d27af084e6b025b91_IMAG01_2.jpg',\n",
    "    'https://image-comic.pstatic.net/webtoon/747269/266/20250602191744_cca384380c15535d27af084e6b025b91_IMAG01_3.jpg'\n",
    "]\n",
    "\n",
    "for img_url in img_urls:\n",
    "    # requests 의 get(url, headers) 함수 호출하기 \n",
    "    res = requests.get(img_url, headers = req_header)\n",
    "    print(res.ok, res.status_code)\n",
    "    # binary 응답 데이터 가져오기\n",
    "    if res.ok :\n",
    "        img_data = res.content\n",
    "        #print(img_data)\n",
    "        \n",
    "    # url에서 파일명만 추출하기\n",
    "    file_name = os.path.basename(img_url)    \n",
    "    # binday data를 file에 write하기\n",
    "    with open(file_name, 'wb') as file :\n",
    "        print(f'Writing to {file_name}({len(img_data):,}bytes)')\n",
    "        file.write(img_data)"
   ]
  },
  {
   "cell_type": "markdown",
   "id": "e8b00a04",
   "metadata": {},
   "source": [
    "* 현재 요청된 페이지의 image 모두 다운로드 해보기"
   ]
  },
  {
   "cell_type": "code",
   "execution_count": 1,
   "id": "b30f7bf5",
   "metadata": {},
   "outputs": [
    {
     "name": "stdout",
     "output_type": "stream",
     "text": [
      "79\n",
      "https://image-comic.pstatic.net/webtoon/747269/266/20250602191744_cca384380c15535d27af084e6b025b91_IMAG01_1.jpg\n",
      "https://image-comic.pstatic.net/webtoon/747269/266/20250602191744_cca384380c15535d27af084e6b025b91_IMAG01_2.jpg\n",
      "https://image-comic.pstatic.net/webtoon/747269/266/20250602191744_cca384380c15535d27af084e6b025b91_IMAG01_3.jpg\n",
      "https://image-comic.pstatic.net/webtoon/747269/266/20250602191744_cca384380c15535d27af084e6b025b91_IMAG01_4.jpg\n",
      "https://image-comic.pstatic.net/webtoon/747269/266/20250602191744_cca384380c15535d27af084e6b025b91_IMAG01_5.jpg\n",
      "https://image-comic.pstatic.net/webtoon/747269/266/20250602191744_cca384380c15535d27af084e6b025b91_IMAG01_6.jpg\n",
      "https://image-comic.pstatic.net/webtoon/747269/266/20250602191744_cca384380c15535d27af084e6b025b91_IMAG01_7.jpg\n",
      "https://image-comic.pstatic.net/webtoon/747269/266/20250602191744_cca384380c15535d27af084e6b025b91_IMAG01_8.jpg\n",
      "https://image-comic.pstatic.net/webtoon/747269/266/20250602191744_cca384380c15535d27af084e6b025b91_IMAG01_9.jpg\n",
      "https://image-comic.pstatic.net/webtoon/747269/266/20250602191744_cca384380c15535d27af084e6b025b91_IMAG01_10.jpg\n",
      "https://image-comic.pstatic.net/webtoon/747269/266/20250602191744_cca384380c15535d27af084e6b025b91_IMAG01_11.jpg\n",
      "https://image-comic.pstatic.net/webtoon/747269/266/20250602191744_cca384380c15535d27af084e6b025b91_IMAG01_12.jpg\n",
      "https://image-comic.pstatic.net/webtoon/747269/266/20250602191744_cca384380c15535d27af084e6b025b91_IMAG01_13.jpg\n",
      "https://image-comic.pstatic.net/webtoon/747269/266/20250602191744_cca384380c15535d27af084e6b025b91_IMAG01_14.jpg\n",
      "https://image-comic.pstatic.net/webtoon/747269/266/20250602191744_cca384380c15535d27af084e6b025b91_IMAG01_15.jpg\n",
      "https://image-comic.pstatic.net/webtoon/747269/266/20250602191744_cca384380c15535d27af084e6b025b91_IMAG01_16.jpg\n",
      "https://image-comic.pstatic.net/webtoon/747269/266/20250602191744_cca384380c15535d27af084e6b025b91_IMAG01_17.jpg\n",
      "https://image-comic.pstatic.net/webtoon/747269/266/20250602191744_cca384380c15535d27af084e6b025b91_IMAG01_18.jpg\n",
      "https://image-comic.pstatic.net/webtoon/747269/266/20250602191744_cca384380c15535d27af084e6b025b91_IMAG01_19.jpg\n",
      "https://image-comic.pstatic.net/webtoon/747269/266/20250602191744_cca384380c15535d27af084e6b025b91_IMAG01_20.jpg\n",
      "https://image-comic.pstatic.net/webtoon/747269/266/20250602191744_cca384380c15535d27af084e6b025b91_IMAG01_21.jpg\n",
      "https://image-comic.pstatic.net/webtoon/747269/266/20250602191744_cca384380c15535d27af084e6b025b91_IMAG01_22.jpg\n",
      "https://image-comic.pstatic.net/webtoon/747269/266/20250602191744_cca384380c15535d27af084e6b025b91_IMAG01_23.jpg\n",
      "https://image-comic.pstatic.net/webtoon/747269/266/20250602191744_cca384380c15535d27af084e6b025b91_IMAG01_24.jpg\n",
      "https://image-comic.pstatic.net/webtoon/747269/266/20250602191744_cca384380c15535d27af084e6b025b91_IMAG01_25.jpg\n",
      "https://image-comic.pstatic.net/webtoon/747269/266/20250602191744_cca384380c15535d27af084e6b025b91_IMAG01_26.jpg\n",
      "https://image-comic.pstatic.net/webtoon/747269/266/20250602191744_cca384380c15535d27af084e6b025b91_IMAG01_27.jpg\n",
      "https://image-comic.pstatic.net/webtoon/747269/266/20250602191744_cca384380c15535d27af084e6b025b91_IMAG01_28.jpg\n",
      "https://image-comic.pstatic.net/webtoon/747269/266/20250602191744_cca384380c15535d27af084e6b025b91_IMAG01_29.jpg\n",
      "https://image-comic.pstatic.net/webtoon/747269/266/20250602191744_cca384380c15535d27af084e6b025b91_IMAG01_30.jpg\n",
      "https://image-comic.pstatic.net/webtoon/747269/266/20250602191744_cca384380c15535d27af084e6b025b91_IMAG01_31.jpg\n",
      "https://image-comic.pstatic.net/webtoon/747269/266/20250602191744_cca384380c15535d27af084e6b025b91_IMAG01_32.jpg\n",
      "https://image-comic.pstatic.net/webtoon/747269/266/20250602191744_cca384380c15535d27af084e6b025b91_IMAG01_33.jpg\n",
      "https://image-comic.pstatic.net/webtoon/747269/266/20250602191744_cca384380c15535d27af084e6b025b91_IMAG01_34.jpg\n",
      "https://image-comic.pstatic.net/webtoon/747269/266/20250602191744_cca384380c15535d27af084e6b025b91_IMAG01_35.jpg\n",
      "https://image-comic.pstatic.net/webtoon/747269/266/20250602191744_cca384380c15535d27af084e6b025b91_IMAG01_36.jpg\n",
      "https://image-comic.pstatic.net/webtoon/747269/266/20250602191744_cca384380c15535d27af084e6b025b91_IMAG01_37.jpg\n",
      "https://image-comic.pstatic.net/webtoon/747269/266/20250602191744_cca384380c15535d27af084e6b025b91_IMAG01_38.jpg\n",
      "https://image-comic.pstatic.net/webtoon/747269/266/20250602191744_cca384380c15535d27af084e6b025b91_IMAG01_39.jpg\n",
      "https://image-comic.pstatic.net/webtoon/747269/266/20250602191744_cca384380c15535d27af084e6b025b91_IMAG01_40.jpg\n",
      "https://image-comic.pstatic.net/webtoon/747269/266/20250602191744_cca384380c15535d27af084e6b025b91_IMAG01_41.jpg\n",
      "https://image-comic.pstatic.net/webtoon/747269/266/20250602191744_cca384380c15535d27af084e6b025b91_IMAG01_42.jpg\n",
      "https://image-comic.pstatic.net/webtoon/747269/266/20250602191744_cca384380c15535d27af084e6b025b91_IMAG01_43.jpg\n",
      "https://image-comic.pstatic.net/webtoon/747269/266/20250602191744_cca384380c15535d27af084e6b025b91_IMAG01_44.jpg\n",
      "https://image-comic.pstatic.net/webtoon/747269/266/20250602191744_cca384380c15535d27af084e6b025b91_IMAG01_45.jpg\n",
      "https://image-comic.pstatic.net/webtoon/747269/266/20250602191744_cca384380c15535d27af084e6b025b91_IMAG01_46.jpg\n",
      "https://image-comic.pstatic.net/webtoon/747269/266/20250602191744_cca384380c15535d27af084e6b025b91_IMAG01_47.jpg\n",
      "https://image-comic.pstatic.net/webtoon/747269/266/20250602191744_cca384380c15535d27af084e6b025b91_IMAG01_48.jpg\n",
      "https://image-comic.pstatic.net/webtoon/747269/266/20250602191744_cca384380c15535d27af084e6b025b91_IMAG01_49.jpg\n",
      "https://image-comic.pstatic.net/webtoon/747269/266/20250602191744_cca384380c15535d27af084e6b025b91_IMAG01_50.jpg\n",
      "https://image-comic.pstatic.net/webtoon/747269/266/20250602191744_cca384380c15535d27af084e6b025b91_IMAG01_51.jpg\n",
      "https://image-comic.pstatic.net/webtoon/747269/266/20250602191744_cca384380c15535d27af084e6b025b91_IMAG01_52.jpg\n",
      "https://image-comic.pstatic.net/webtoon/747269/266/20250602191744_cca384380c15535d27af084e6b025b91_IMAG01_53.jpg\n",
      "https://image-comic.pstatic.net/webtoon/747269/266/20250602191744_cca384380c15535d27af084e6b025b91_IMAG01_54.jpg\n",
      "https://image-comic.pstatic.net/webtoon/747269/266/20250602191744_cca384380c15535d27af084e6b025b91_IMAG01_55.jpg\n",
      "https://image-comic.pstatic.net/webtoon/747269/266/20250602191744_cca384380c15535d27af084e6b025b91_IMAG01_56.jpg\n",
      "https://image-comic.pstatic.net/webtoon/747269/266/20250602191744_cca384380c15535d27af084e6b025b91_IMAG01_57.jpg\n",
      "https://image-comic.pstatic.net/webtoon/747269/266/20250602191744_cca384380c15535d27af084e6b025b91_IMAG01_58.jpg\n",
      "https://image-comic.pstatic.net/webtoon/747269/266/20250602191744_cca384380c15535d27af084e6b025b91_IMAG01_59.jpg\n",
      "https://image-comic.pstatic.net/webtoon/747269/266/20250602191744_cca384380c15535d27af084e6b025b91_IMAG01_60.jpg\n",
      "https://image-comic.pstatic.net/webtoon/747269/266/20250602191744_cca384380c15535d27af084e6b025b91_IMAG01_61.jpg\n",
      "https://image-comic.pstatic.net/webtoon/747269/266/20250602191744_cca384380c15535d27af084e6b025b91_IMAG01_62.jpg\n",
      "https://image-comic.pstatic.net/webtoon/747269/266/20250602191744_cca384380c15535d27af084e6b025b91_IMAG01_63.jpg\n",
      "https://image-comic.pstatic.net/webtoon/747269/266/20250602191744_cca384380c15535d27af084e6b025b91_IMAG01_64.jpg\n",
      "https://image-comic.pstatic.net/webtoon/747269/266/20250602191744_cca384380c15535d27af084e6b025b91_IMAG01_65.jpg\n",
      "https://image-comic.pstatic.net/webtoon/747269/266/20250602191744_cca384380c15535d27af084e6b025b91_IMAG01_66.jpg\n",
      "https://image-comic.pstatic.net/webtoon/747269/266/20250602191744_cca384380c15535d27af084e6b025b91_IMAG01_67.jpg\n",
      "https://image-comic.pstatic.net/webtoon/747269/266/20250602191744_cca384380c15535d27af084e6b025b91_IMAG01_68.jpg\n",
      "https://image-comic.pstatic.net/webtoon/747269/266/20250602191744_cca384380c15535d27af084e6b025b91_IMAG01_69.jpg\n",
      "https://image-comic.pstatic.net/webtoon/747269/266/20250602191744_cca384380c15535d27af084e6b025b91_IMAG01_70.jpg\n",
      "https://image-comic.pstatic.net/webtoon/747269/266/20250602191744_cca384380c15535d27af084e6b025b91_IMAG01_71.jpg\n",
      "https://image-comic.pstatic.net/webtoon/747269/266/20250602191744_cca384380c15535d27af084e6b025b91_IMAG01_72.jpg\n",
      "https://image-comic.pstatic.net/webtoon/747269/266/20250602191744_cca384380c15535d27af084e6b025b91_IMAG01_73.jpg\n",
      "https://image-comic.pstatic.net/webtoon/747269/266/20250602191744_cca384380c15535d27af084e6b025b91_IMAG01_74.jpg\n",
      "https://image-comic.pstatic.net/webtoon/747269/266/20250602191744_cca384380c15535d27af084e6b025b91_IMAG01_75.jpg\n",
      "https://image-comic.pstatic.net/webtoon/747269/266/20250602191744_cca384380c15535d27af084e6b025b91_IMAG01_76.jpg\n",
      "https://image-comic.pstatic.net/webtoon/747269/266/20250602191744_cca384380c15535d27af084e6b025b91_IMAG01_77.jpg\n",
      "https://image-comic.pstatic.net/webtoon/747269/266/20250602191744_cca384380c15535d27af084e6b025b91_IMAG01_78.jpg\n",
      "https://image-comic.pstatic.net/webtoon/747269/266/20250602191744_cca384380c15535d27af084e6b025b91_IMAG01_79.jpg\n",
      "img\\20250602191744_cca384380c15535d27af084e6b025b91_IMAG01_1.jpg\n",
      "img\\20250602191744_cca384380c15535d27af084e6b025b91_IMAG01_2.jpg\n",
      "img\\20250602191744_cca384380c15535d27af084e6b025b91_IMAG01_3.jpg\n",
      "img\\20250602191744_cca384380c15535d27af084e6b025b91_IMAG01_4.jpg\n",
      "img\\20250602191744_cca384380c15535d27af084e6b025b91_IMAG01_5.jpg\n",
      "img\\20250602191744_cca384380c15535d27af084e6b025b91_IMAG01_6.jpg\n",
      "img\\20250602191744_cca384380c15535d27af084e6b025b91_IMAG01_7.jpg\n",
      "img\\20250602191744_cca384380c15535d27af084e6b025b91_IMAG01_8.jpg\n",
      "img\\20250602191744_cca384380c15535d27af084e6b025b91_IMAG01_9.jpg\n",
      "img\\20250602191744_cca384380c15535d27af084e6b025b91_IMAG01_10.jpg\n",
      "img\\20250602191744_cca384380c15535d27af084e6b025b91_IMAG01_11.jpg\n",
      "img\\20250602191744_cca384380c15535d27af084e6b025b91_IMAG01_12.jpg\n",
      "img\\20250602191744_cca384380c15535d27af084e6b025b91_IMAG01_13.jpg\n",
      "img\\20250602191744_cca384380c15535d27af084e6b025b91_IMAG01_14.jpg\n",
      "img\\20250602191744_cca384380c15535d27af084e6b025b91_IMAG01_15.jpg\n",
      "img\\20250602191744_cca384380c15535d27af084e6b025b91_IMAG01_16.jpg\n",
      "img\\20250602191744_cca384380c15535d27af084e6b025b91_IMAG01_17.jpg\n",
      "img\\20250602191744_cca384380c15535d27af084e6b025b91_IMAG01_18.jpg\n",
      "img\\20250602191744_cca384380c15535d27af084e6b025b91_IMAG01_19.jpg\n",
      "img\\20250602191744_cca384380c15535d27af084e6b025b91_IMAG01_20.jpg\n",
      "img\\20250602191744_cca384380c15535d27af084e6b025b91_IMAG01_21.jpg\n",
      "img\\20250602191744_cca384380c15535d27af084e6b025b91_IMAG01_22.jpg\n",
      "img\\20250602191744_cca384380c15535d27af084e6b025b91_IMAG01_23.jpg\n",
      "img\\20250602191744_cca384380c15535d27af084e6b025b91_IMAG01_24.jpg\n",
      "img\\20250602191744_cca384380c15535d27af084e6b025b91_IMAG01_25.jpg\n",
      "img\\20250602191744_cca384380c15535d27af084e6b025b91_IMAG01_26.jpg\n",
      "img\\20250602191744_cca384380c15535d27af084e6b025b91_IMAG01_27.jpg\n",
      "img\\20250602191744_cca384380c15535d27af084e6b025b91_IMAG01_28.jpg\n",
      "img\\20250602191744_cca384380c15535d27af084e6b025b91_IMAG01_29.jpg\n",
      "img\\20250602191744_cca384380c15535d27af084e6b025b91_IMAG01_30.jpg\n",
      "img\\20250602191744_cca384380c15535d27af084e6b025b91_IMAG01_31.jpg\n",
      "img\\20250602191744_cca384380c15535d27af084e6b025b91_IMAG01_32.jpg\n",
      "img\\20250602191744_cca384380c15535d27af084e6b025b91_IMAG01_33.jpg\n",
      "img\\20250602191744_cca384380c15535d27af084e6b025b91_IMAG01_34.jpg\n",
      "img\\20250602191744_cca384380c15535d27af084e6b025b91_IMAG01_35.jpg\n",
      "img\\20250602191744_cca384380c15535d27af084e6b025b91_IMAG01_36.jpg\n",
      "img\\20250602191744_cca384380c15535d27af084e6b025b91_IMAG01_37.jpg\n",
      "img\\20250602191744_cca384380c15535d27af084e6b025b91_IMAG01_38.jpg\n",
      "img\\20250602191744_cca384380c15535d27af084e6b025b91_IMAG01_39.jpg\n",
      "img\\20250602191744_cca384380c15535d27af084e6b025b91_IMAG01_40.jpg\n",
      "img\\20250602191744_cca384380c15535d27af084e6b025b91_IMAG01_41.jpg\n",
      "img\\20250602191744_cca384380c15535d27af084e6b025b91_IMAG01_42.jpg\n",
      "img\\20250602191744_cca384380c15535d27af084e6b025b91_IMAG01_43.jpg\n",
      "img\\20250602191744_cca384380c15535d27af084e6b025b91_IMAG01_44.jpg\n",
      "img\\20250602191744_cca384380c15535d27af084e6b025b91_IMAG01_45.jpg\n",
      "img\\20250602191744_cca384380c15535d27af084e6b025b91_IMAG01_46.jpg\n",
      "img\\20250602191744_cca384380c15535d27af084e6b025b91_IMAG01_47.jpg\n",
      "img\\20250602191744_cca384380c15535d27af084e6b025b91_IMAG01_48.jpg\n",
      "img\\20250602191744_cca384380c15535d27af084e6b025b91_IMAG01_49.jpg\n",
      "img\\20250602191744_cca384380c15535d27af084e6b025b91_IMAG01_50.jpg\n",
      "img\\20250602191744_cca384380c15535d27af084e6b025b91_IMAG01_51.jpg\n",
      "img\\20250602191744_cca384380c15535d27af084e6b025b91_IMAG01_52.jpg\n",
      "img\\20250602191744_cca384380c15535d27af084e6b025b91_IMAG01_53.jpg\n",
      "img\\20250602191744_cca384380c15535d27af084e6b025b91_IMAG01_54.jpg\n",
      "img\\20250602191744_cca384380c15535d27af084e6b025b91_IMAG01_55.jpg\n",
      "img\\20250602191744_cca384380c15535d27af084e6b025b91_IMAG01_56.jpg\n",
      "img\\20250602191744_cca384380c15535d27af084e6b025b91_IMAG01_57.jpg\n",
      "img\\20250602191744_cca384380c15535d27af084e6b025b91_IMAG01_58.jpg\n",
      "img\\20250602191744_cca384380c15535d27af084e6b025b91_IMAG01_59.jpg\n",
      "img\\20250602191744_cca384380c15535d27af084e6b025b91_IMAG01_60.jpg\n",
      "img\\20250602191744_cca384380c15535d27af084e6b025b91_IMAG01_61.jpg\n",
      "img\\20250602191744_cca384380c15535d27af084e6b025b91_IMAG01_62.jpg\n",
      "img\\20250602191744_cca384380c15535d27af084e6b025b91_IMAG01_63.jpg\n",
      "img\\20250602191744_cca384380c15535d27af084e6b025b91_IMAG01_64.jpg\n",
      "img\\20250602191744_cca384380c15535d27af084e6b025b91_IMAG01_65.jpg\n",
      "img\\20250602191744_cca384380c15535d27af084e6b025b91_IMAG01_66.jpg\n",
      "img\\20250602191744_cca384380c15535d27af084e6b025b91_IMAG01_67.jpg\n",
      "img\\20250602191744_cca384380c15535d27af084e6b025b91_IMAG01_68.jpg\n",
      "img\\20250602191744_cca384380c15535d27af084e6b025b91_IMAG01_69.jpg\n",
      "img\\20250602191744_cca384380c15535d27af084e6b025b91_IMAG01_70.jpg\n",
      "img\\20250602191744_cca384380c15535d27af084e6b025b91_IMAG01_71.jpg\n",
      "img\\20250602191744_cca384380c15535d27af084e6b025b91_IMAG01_72.jpg\n",
      "img\\20250602191744_cca384380c15535d27af084e6b025b91_IMAG01_73.jpg\n",
      "img\\20250602191744_cca384380c15535d27af084e6b025b91_IMAG01_74.jpg\n",
      "img\\20250602191744_cca384380c15535d27af084e6b025b91_IMAG01_75.jpg\n",
      "img\\20250602191744_cca384380c15535d27af084e6b025b91_IMAG01_76.jpg\n",
      "img\\20250602191744_cca384380c15535d27af084e6b025b91_IMAG01_77.jpg\n",
      "img\\20250602191744_cca384380c15535d27af084e6b025b91_IMAG01_78.jpg\n",
      "img\\20250602191744_cca384380c15535d27af084e6b025b91_IMAG01_79.jpg\n"
     ]
    }
   ],
   "source": [
    "import requests\n",
    "from bs4 import BeautifulSoup\n",
    "import os\n",
    "\n",
    "webtoon_url  = 'https://comic.naver.com/webtoon/detail?titleId=747269&no=266&week=wed'\n",
    "req_header = {\n",
    "    'referer':webtoon_url, \n",
    "    \"user-agent\": \"Mozilla/5.0 (Windows NT 10.0; Win64; x64) AppleWebKit/537.36 (KHTML, like Gecko) Chrome/104.0.0.0 Safari/537.36\"}\n",
    "\n",
    "res = requests.get(webtoon_url)\n",
    "\n",
    "if res.ok :\n",
    "    soup = BeautifulSoup(res.text, 'html.parser')\n",
    "    print(len(soup.select(\"img[src *='IMAG01']\")))\n",
    "    \n",
    "    #img src file명을 저장할 list\n",
    "    img_url_list=[]\n",
    "    img_tags = soup.select(\"img[src *='IMAG01']\")\n",
    "    \n",
    "    for img_tag in img_tags :\n",
    "        img_url = img_tag['src']\n",
    "        print(img_url)\n",
    "        img_url_list.append(img_url)\n",
    "    #print(len(img_url_list),img_url_list[0:2])\n",
    "    \n",
    "    #img 디렉토리가 없으면 생성하기\n",
    "    imgdir_name = 'img'\n",
    "    if not os.path.isdir(imgdir_name):\n",
    "        os.mkdir(imgdir_name)\n",
    "\n",
    "    for jpg_url in img_url_list:\n",
    "        res = requests.get(jpg_url, headers = req_header)\n",
    "        if res.ok :\n",
    "            #binary data 추출하기\n",
    "            img_data = res.content\n",
    "            #img/xxx.jpg 디렉토리명과 jpg 파일명 join\n",
    "            dir_name = os.path.join(imgdir_name, os.path.basename(jpg_url))\n",
    "            print(dir_name)\n",
    "            with open(dir_name, 'wb') as file :\n",
    "                file.write(img_data)\n",
    "        else :\n",
    "            print(f'Error Code = {res.status_code}')"
   ]
  },
  {
   "cell_type": "markdown",
   "id": "2ac9f5f9",
   "metadata": {},
   "source": [
    "### 3. 파일 업로드 하기\n",
    "* http://httpbin.org/post 업로드 요청을 할 수 있는 url"
   ]
  },
  {
   "cell_type": "code",
   "execution_count": 11,
   "id": "04da4790",
   "metadata": {},
   "outputs": [],
   "source": [
    "import requests\n",
    "\n",
    "upload_files = {\n",
    "    \n",
    "}\n",
    "#print(upload_files)\n",
    "\n",
    "url = 'http://httpbin.org/post'\n",
    "# file 업로드 하려면 requests의 post 함수에 files 속성을 사용합니다.\n",
    "\n"
   ]
  },
  {
   "cell_type": "markdown",
   "id": "4fe5e746",
   "metadata": {},
   "source": [
    "### 리팩토링 코드"
   ]
  },
  {
   "cell_type": "markdown",
   "id": "e4e0d4b0",
   "metadata": {},
   "source": []
  },
  {
   "cell_type": "code",
   "execution_count": null,
   "id": "597ccbd8",
   "metadata": {},
   "outputs": [],
   "source": [
    "import requests\n",
    "from bs4 import BeautifulSoup\n",
    "import os\n",
    "\n",
    "# 기본 설정\n",
    "url = 'https://comic.naver.com/webtoon/detail?titleId=833255&no=3&week=tue'\n",
    "req_header = {'referer': url}\n",
    "imgdir_name = 'img'\n",
    "\n",
    "# 이미지 저장 폴더가 없으면 생성\n",
    "os.makedirs(imgdir_name, exist_ok=True)\n",
    "\n",
    "# 웹 페이지 요청 및 확인\n",
    "res = requests.get(url)\n",
    "if not res.ok:\n",
    "    print(f'Error Code = {res.status_code}')\n",
    "    exit()\n",
    "\n",
    "# 이미지 URL 추출\n",
    "soup = BeautifulSoup(res.text, 'html.parser')\n",
    "img_url_list = [img_tag['src'] for img_tag in soup.select(\"img[src*='IMAG01']\")]\n",
    "\n",
    "# 이미지 다운로드\n",
    "for img_url in img_url_list:\n",
    "    res = requests.get(img_url, headers=req_header)\n",
    "    if res.ok:\n",
    "        img_data = res.content\n",
    "        file_path = os.path.join(imgdir_name, os.path.basename(img_url))\n",
    "        with open(file_path, 'wb') as file:\n",
    "            print(f'Writing to {file_path} ({len(img_data):,} bytes)')\n",
    "            file.write(img_data)\n",
    "    else:\n",
    "        print(f'Error Code = {res.status_code} for {img_url}')"
   ]
  },
  {
   "cell_type": "markdown",
   "id": "7ad65f12",
   "metadata": {},
   "source": [
    "### 4. 캡챠(이미지) API 호출하기\n",
    "* urllib 사용\n",
    "* 1. 캡차 키 발급 요청\n",
    "  2. 캡차 이미지 요청\n",
    "  3. 사용자 입력값 검증 요청"
   ]
  },
  {
   "cell_type": "code",
   "execution_count": null,
   "id": "bc4ae360-e772-4873-8642-d3494edd34e1",
   "metadata": {},
   "outputs": [],
   "source": [
    "# 캡차 키 발급 요청\n"
   ]
  },
  {
   "cell_type": "code",
   "execution_count": null,
   "id": "7b95b6a0-c218-4792-82a6-da4d80872071",
   "metadata": {},
   "outputs": [],
   "source": [
    "# 캡차 이미지 요청\n"
   ]
  },
  {
   "cell_type": "code",
   "execution_count": null,
   "id": "a79076af-2cd0-4de2-8301-316b9130c55e",
   "metadata": {},
   "outputs": [],
   "source": [
    "#  사용자 입력값 검증 요청\n",
    "\n"
   ]
  },
  {
   "cell_type": "markdown",
   "id": "b7d984a6",
   "metadata": {},
   "source": [
    "* requests를 사용하는 코드로 변경하기\n",
    "* [requests docs](https://requests.readthedocs.io/en/latest/user/quickstart/)"
   ]
  },
  {
   "cell_type": "code",
   "execution_count": null,
   "id": "727b427b",
   "metadata": {
    "scrolled": true
   },
   "outputs": [
    {
     "name": "stdout",
     "output_type": "stream",
     "text": [
      "Error Code: 403\n"
     ]
    }
   ],
   "source": [
    "# 사용자 입력값 검증 요청\n",
    "\n"
   ]
  },
  {
   "cell_type": "markdown",
   "id": "d5e1179a",
   "metadata": {},
   "source": [
    "### 5. 블로그 검색하기"
   ]
  },
  {
   "cell_type": "code",
   "execution_count": null,
   "id": "877d0c7f",
   "metadata": {},
   "outputs": [],
   "source": [
    "import requests\n",
    "import pprint\n",
    "\n",
    "headers = {\n",
    "    'X-Naver-Client-Id': '',\n",
    "    'X-Naver-Client-Secret': '',\n",
    "}\n",
    "\n",
    "payload = {\n",
    "    'query': '파이썬',\n",
    "    'display': 100,\n",
    "    'sort': 'sim'\n",
    "}\n",
    "\n",
    "url = 'https://openapi.naver.com/v1/search/blog.json'\n",
    "\n",
    "\n",
    "# requests get(url, params, headers) 요청 \n",
    "\n",
    "# json() 함수로 응답 결과 가져오오기\n",
    "# 'title' , 'bloggername' , 'description' , 'bloggerlink' , 'link'\n",
    "\n",
    "# 'data/nhnblog.txt' 파일 생성하기\n"
   ]
  }
 ],
 "metadata": {
  "kernelspec": {
   "display_name": "base",
   "language": "python",
   "name": "python3"
  },
  "language_info": {
   "codemirror_mode": {
    "name": "ipython",
    "version": 3
   },
   "file_extension": ".py",
   "mimetype": "text/x-python",
   "name": "python",
   "nbconvert_exporter": "python",
   "pygments_lexer": "ipython3",
   "version": "3.12.7"
  }
 },
 "nbformat": 4,
 "nbformat_minor": 5
}
