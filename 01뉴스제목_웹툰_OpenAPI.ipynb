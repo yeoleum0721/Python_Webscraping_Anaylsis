{
 "cells": [
  {
   "cell_type": "markdown",
   "id": "eb0bfa44",
   "metadata": {},
   "source": [
    "## 1. 뉴스제목 가져오기\n",
    "* user-agent 요청헤더를 반드시 설정해야 한다."
   ]
  },
  {
   "cell_type": "code",
   "execution_count": 1,
   "id": "f0d27781",
   "metadata": {},
   "outputs": [
    {
     "name": "stdout",
     "output_type": "stream",
     "text": [
      "Name: requests\n",
      "Version: 2.32.3\n",
      "Summary: Python HTTP for Humans.\n",
      "Home-page: https://requests.readthedocs.io\n",
      "Author: Kenneth Reitz\n",
      "Author-email: me@kennethreitz.org\n",
      "License: Apache-2.0\n",
      "Location: C:\\Users\\user\\anaconda3\\Lib\\site-packages\n",
      "Requires: certifi, charset-normalizer, idna, urllib3\n",
      "Required-by: anaconda-catalogs, anaconda-client, anaconda-cloud-auth, anaconda-project, conda, conda-build, conda-repo-cli, conda_package_streaming, cookiecutter, datashader, jupyterlab_server, panel, requests-file, requests-toolbelt, Sphinx, streamlit, tldextract\n"
     ]
    }
   ],
   "source": [
    "# requests 라이브러리 설치여부 \n",
    "!pip show requests"
   ]
  },
  {
   "cell_type": "code",
   "execution_count": 2,
   "id": "f7798ea8",
   "metadata": {},
   "outputs": [
    {
     "name": "stdout",
     "output_type": "stream",
     "text": [
      "Name: beautifulsoup4\n",
      "Version: 4.12.3\n",
      "Summary: Screen-scraping library\n",
      "Home-page: https://www.crummy.com/software/BeautifulSoup/bs4/\n",
      "Author: \n",
      "Author-email: Leonard Richardson <leonardr@segfault.org>\n",
      "License: MIT License\n",
      "Location: C:\\Users\\user\\anaconda3\\Lib\\site-packages\n",
      "Requires: soupsieve\n",
      "Required-by: conda-build, nbconvert\n"
     ]
    }
   ],
   "source": [
    "# beautifulsoup4 라이브러리 설치여부 확인\n",
    "!pip show beautifulsoup4"
   ]
  },
  {
   "cell_type": "code",
   "execution_count": 3,
   "id": "bf80a429",
   "metadata": {},
   "outputs": [],
   "source": [
    "# reqeusts import\n",
    "import requests\n",
    "# bs4 클래스 import\n",
    "import bs4\n",
    "#BeautifulSoup import\n",
    "from bs4 import BeautifulSoup"
   ]
  },
  {
   "cell_type": "code",
   "execution_count": 4,
   "id": "9788d6ac",
   "metadata": {},
   "outputs": [
    {
     "name": "stdout",
     "output_type": "stream",
     "text": [
      "requests 버전:2.32.3\n",
      "bs4 버전:4.12.3\n"
     ]
    }
   ],
   "source": [
    "# requests, bs4 버전 확인하기\n",
    "print(f'requests 버전:{requests.__version__}')\n",
    "print(f'bs4 버전:{bs4.__version__}')\n"
   ]
  },
  {
   "cell_type": "markdown",
   "id": "ccb91def-cde3-4aeb-b0e5-2e7233500333",
   "metadata": {},
   "source": [
    "### 1. 뉴스 제목 추출하기"
   ]
  },
  {
   "cell_type": "code",
   "execution_count": 8,
   "id": "94c12fd6",
   "metadata": {},
   "outputs": [
    {
     "name": "stdout",
     "output_type": "stream",
     "text": [
      "https://news.naver.com/section/105\n"
     ]
    }
   ],
   "source": [
    "# IT/과학 뉴스 \n",
    "req_param = {\n",
    "    'sid': 105\n",
    "}\n",
    "sid =104\n",
    "#url = f'https://news.naver.com/section/{sid}'\n",
    "url = 'https://news.naver.com/section/{sid}'.format(**req_param)\n",
    "print(url)\n"
   ]
  },
  {
   "cell_type": "code",
   "execution_count": null,
   "id": "4914c6c2",
   "metadata": {},
   "outputs": [],
   "source": [
    "\n",
    "#url = 'https://news.naver.com/section/{sid}'.format(**req_param)\n",
    "print(url)\n",
    "\n",
    "# 요청 헤더 설정 : 브라우저 정보\n",
    "req_header = {\n",
    "    \"user-agent\": \"Mozilla/5.0 (Windows NT 10.0; Win64; x64) AppleWebKit/537.36 (KHTML, like Gecko) Chrome/104.0.0.0 Safari/537.36\"\n",
    "}\n",
    "\n",
    " # requests 의 get() 함수 호출하기\n",
    "res = requests.get(url, headers = req_header)\n",
    "print(res.status_code,res.ok)\n",
    "print(type(res))\n",
    "print(res)\n",
    "\n",
    "# 응답(response)이 OK 이면\n",
    "# 응답 (response)에서 text 추출\n",
    "if (res.ok):\n",
    "    html = res.text\n",
    "\n",
    "    # BeautifulSoup 객체 생성\n",
    "    soup = BeautifulSoup(html, 'html.parser') \n",
    "    #print(soup)  \n",
    "    # CSS 선택자\n",
    "    # print(soup.select(\"div.sa_text a[href*='mnews/article']\")\n",
    "\n",
    "    '''\n",
    "       <div class='sa_text'> \n",
    "          <a href=\"https://n.news.naver.com/mnews/article/366/0001094461\">\n",
    "    '''\n",
    "\n",
    "    #a_tags = soup.select(\"div.sa_text a[href*='https://n.news.naver.com/mnews/article/']\")\n",
    "    a_tags = soup.select(\"div.sa_text a[href*='news/article/'].sa_text_title\")\n",
    "    print(len(a_tags))\n",
    "    print(type(a_tags)) #[Tag,Tag,Tag]\n",
    "    \n",
    "    # <a> 태그 리스트 순회하기 \n",
    "    for idx,a_tag in enumerate(a_tags,1):\n",
    "        if a_tag.text :\n",
    "            title = a_tag.text.strip()#제목\n",
    "            link = a_tag['href']#링크\n",
    "            print(f'{idx} {title} {link}') #제목과 링크 가져옴\n",
    "\n",
    " # 응답(response)이 Error 이면 status code 출력  \n",
    "else :\n",
    "    print(f'Error code = {res.status_code}')\n",
    "\n",
    "\n",
    "\n"
   ]
  },
  {
   "cell_type": "markdown",
   "id": "45640860-a449-4285-90d7-5f300292b461",
   "metadata": {},
   "source": [
    "### 1.1 뉴스제목 추출하는 함수 선언하기"
   ]
  },
  {
   "cell_type": "code",
   "execution_count": 54,
   "id": "9f2e4ef8",
   "metadata": {},
   "outputs": [],
   "source": [
    "import requests\n",
    "from bs4 import BeautifulSoup\n",
    "\n",
    "#section_dict = {100:'정치',101:'경제',102:'사회',103:'생활/문화',104:'세계',105:'IT/과학'}\n",
    "section_dict = {'정치':100,'경제':101,'사회':102,'생활/문화':103,'세계':104,'IT/과학':105}\n",
    "def print_news(section):  #print_new(103,'생활/문화') \n",
    "    sid = section_dict[section]\n",
    "    url = f'https://news.naver.com/section/{sid}'\n",
    "    print(f'{url} {section}뉴스')\n",
    "\n",
    "   # requests 의 get() 함수 호출하기\n",
    "    req_header = {\n",
    "    \"user-agent\": \"Mozilla/5.0 (Windows NT 10.0; Win64; x64) AppleWebKit/537.36 (KHTML, like Gecko) Chrome/104.0.0.0 Safari/537.36\"}\n",
    "\n",
    "    # requests 의 get() 함수 호출하기\n",
    "    res = requests.get(url, headers = req_header)\n",
    "    print(res.status_code,res.ok)\n",
    "\n",
    "    # 응답(response)이 OK 이면 응답 (response)에서 text 추출\n",
    "    if (res.ok):\n",
    "        html = res.text\n",
    "        soup = BeautifulSoup(html, 'html.parser')\n",
    "        #print(soup)\n",
    "\n",
    "        a_tags = soup.select(\"div.sa_text a[href*='news/article/'].sa_text_title\")\n",
    "        print(len(a_tags))\n",
    "\n",
    "    # <a> 태그 리스트 순회하기 \n",
    "        for idx,a_tag in enumerate(a_tags,1):\n",
    "            if a_tag.text :\n",
    "                title = a_tag.text.strip()\n",
    "                link = a_tag['href']\n",
    "                print(f'{idx} {title} {link}') \n",
    "    \n",
    "    else :\n",
    "    # 응답(response)이 Error 이면 status code 출력  \n",
    "        print(f'Error code = {res.status_code}')\n",
    "\n",
    "    \n"
   ]
  },
  {
   "cell_type": "code",
   "execution_count": 57,
   "id": "858952c6",
   "metadata": {},
   "outputs": [
    {
     "name": "stdout",
     "output_type": "stream",
     "text": [
      "https://news.naver.com/section/104 세계뉴스\n",
      "200 True\n",
      "46\n",
      "1 ‘임금 삭감 없는’ 주 4일제, 생산성과 복지 두 마리 토끼 잡았다 https://n.news.naver.com/mnews/article/366/0001094413\n",
      "2 美의 태세 전환…\"합의의 질이 중요\" 韓에도 고강도 압박하나 https://n.news.naver.com/mnews/article/011/0004512105\n",
      "3 중국 AI 산업 규모 135조원 달해...\"연간 20% 성장\" https://n.news.naver.com/mnews/article/050/0000093976\n",
      "4 日 극우 참정당 '2→15석' 대약진…'反외국인' SNS 선동 통했다 https://n.news.naver.com/mnews/article/469/0000877266\n",
      "5 트럼프 괘씸죄에 걸린 WSJ, 스코틀랜드 취재단서 제외 https://n.news.naver.com/mnews/article/018/0006070816\n",
      "6 日이시바 “국정 정체 없어야”…총리직 유지 의사 재확인 https://n.news.naver.com/mnews/article/016/0002502653\n",
      "7 \"150만 원 보내달라고 했는데…\" 일본 여행 갔다 한 달째 실종된 20대 한국인 https://n.news.naver.com/mnews/article/055/0001277467\n",
      "8 비트코인 담보로 한 대출 나오나… “美 JP모건 추진” https://n.news.naver.com/mnews/article/011/0004512144\n",
      "9 방글라데시 학교에 공군 훈련기 '추락'…최소 18명 사망 https://n.news.naver.com/mnews/article/277/0005625810\n",
      "10 이란 “유럽 3개국과 25일 핵협상…유엔 제재 복원은 불법” https://n.news.naver.com/mnews/article/056/0011993151\n",
      "11 中 최신 스텔스 J-35, 실전 배치 임박 사진 확산 https://n.news.naver.com/mnews/article/011/0004512145\n",
      "12 “전투기 보좌하는 AI 드론”…美 ‘발키리’, 독일군도 쓴다 https://n.news.naver.com/mnews/article/081/0003559871\n",
      "13 트럼프 네타냐후에 “당황했다”…시리아 분쟁, 가자지구 공습에 파열음 나는 브로맨스 https://n.news.naver.com/mnews/article/025/0003456845\n",
      "14 韓반도체기업 5000억에 산 中회사, 홍콩 상장 추진…\"몸값 4조\" https://n.news.naver.com/mnews/article/421/0008385485\n",
      "15 트럼프 자찬하지만… \"포퓰리스트나 하는 정책\" https://n.news.naver.com/mnews/article/011/0004512142\n",
      "16 美재무 “연준 기관 전체 조사해야”…또 파월 때리기 https://n.news.naver.com/mnews/article/016/0002503345\n",
      "17 \"JP모건, 비트코인 담보 대출 출시 검토\" https://n.news.naver.com/mnews/article/374/0000453128\n",
      "18 이스라엘, 가자 중부에 탱크 첫 투입…“어디도 안전한 곳이 없다” https://n.news.naver.com/mnews/article/028/0002757349\n",
      "19 연준 전 의장 옐런·버냉키 “통화정책 결정에서 정치 배제해야 더 나은 결과” https://n.news.naver.com/mnews/article/032/0003384522\n",
      "20 미 국방 “필리핀과 상호방위조약, 태평양 전체 적용”…한국에도 영향? https://n.news.naver.com/mnews/article/028/0002757347\n",
      "21 [월드 이슈] 북 추가 파병 가시화…러·우 전쟁의 향방은? https://n.news.naver.com/mnews/article/056/0011993874\n",
      "22 트럼프 취임 직후 발표한 'AI 프로젝트', 아직 시작도 안 했다고? https://n.news.naver.com/mnews/article/008/0005225224\n",
      "23 “군산에 F-35 스텔스 영구주둔”...이런 주장을 왜 한국이 아닌 親대만 연구소가 내세울까 [★★글로벌] https://n.news.naver.com/mnews/article/009/0005529099\n",
      "24 ‘저팬 퍼스트’에 호응한 日 청년층… 자민당 70년 독주에 균열 https://n.news.naver.com/mnews/article/366/0001094609\n",
      "25 \"스치는 땅마다 물바다\"…6호 태풍 '위파' 공포의 동남아 순방 https://n.news.naver.com/mnews/article/421/0008385362\n",
      "26 \"파월 축출하면 미 장기 국채 수익률 0.5%p 뛸 것\"-도이체방크 https://n.news.naver.com/mnews/article/008/0005225218\n",
      "27 분주한 각국…\"말레이시아, 美상호관세율 20% 목표\" https://n.news.naver.com/mnews/article/277/0005626303\n",
      "28 \"막오른 신냉전 '한국판 중동 전략' 세워야…실리외교는 필수\" [월간중앙] https://n.news.naver.com/mnews/article/025/0003456825\n",
      "29 트럼프 발끈할 상황...일본차 1위 등극 '대이변' [지금이뉴스] https://n.news.naver.com/mnews/article/052/0002222850\n",
      "30 관세 충격에도 끄떡없다?…글로벌 경제 \"예상보다 견고해\" https://n.news.naver.com/mnews/article/003/0013377798\n",
      "31 세금 깎아줄게 '돌아와요 아테네로' https://n.news.naver.com/mnews/article/374/0000453113\n",
      "32 또 중국 소행이었나…MS 대규모 해킹 배후 中 연계 가능성 https://n.news.naver.com/mnews/article/025/0003456820\n",
      "33 美의 태세 전환…\"합의의 질이 중요\" 韓에도 고강도 압박하나 https://n.news.naver.com/mnews/article/011/0004512105\n",
      "34 이시바 선거 참패 후 ‘미 관세 협상’ 애타는 일본 https://n.news.naver.com/mnews/article/032/0003384496\n",
      "35 세계 최대 수력발전댐 짓는 중국… 논란 이유 세 가지 https://n.news.naver.com/mnews/article/366/0001094583\n",
      "36 예멘 항구 공습 다음날…이스라엘, 예멘서 날아온 미사일 요격 https://n.news.naver.com/mnews/article/421/0008385111\n",
      "37 유흥식 추기경 DMZ 방문 무산시킨 유엔사... 마음 콩밭에 가 있나 [김종성의 '히, 스토리'] https://n.news.naver.com/mnews/article/047/0002481899\n",
      "38 \"3일 뒤에 온댔는데\"…日 여행간 20대 韓 여성 한 달째 실종 https://n.news.naver.com/mnews/article/088/0000960340\n",
      "39 중국 YMTC \"100% 중국산 반도체 장비로 공장 짓는다\" https://n.news.naver.com/mnews/article/008/0005225169\n",
      "40 美150개 기업 암호화폐 매집, 비트는 물론 솔라나까지(종합) https://n.news.naver.com/mnews/article/421/0008385079\n",
      "41 '캘리포니아의 상징' 인앤아웃 버거마저...무덤이 된 '기회의 땅' [지금이뉴스] https://n.news.naver.com/mnews/article/052/0002222821\n",
      "42 “FBI의 킹 목사 감시, 암살 연루 정보는 발견되지 않아”-WP https://n.news.naver.com/mnews/article/003/0013377650\n",
      "43 “대북 라디오 방송량 80% 줄어...北, 정보전서 중대한 승리” https://n.news.naver.com/mnews/article/009/0005529033\n",
      "44 미·필리핀 “상호방위조약, 태평양 어디서든 적용”…관세협상도 잘 풀릴까 https://n.news.naver.com/mnews/article/025/0003456814\n",
      "45 美재무 \"8월 1일까지 합의하는 것보다 질 높은 무역 합의에 더 관심\" https://n.news.naver.com/mnews/article/014/0005380649\n",
      "46 '일본인 퍼스트' 참정당 돌풍... 일본에도 극우 물결? https://n.news.naver.com/mnews/article/047/0002481892\n"
     ]
    }
   ],
   "source": [
    "print_news('세계')"
   ]
  },
  {
   "cell_type": "markdown",
   "id": "323196dc",
   "metadata": {},
   "source": [
    "### 2. Image 다운로드\n",
    "* referer 요청 헤더를 반드시 설정해야 한다."
   ]
  },
  {
   "cell_type": "code",
   "execution_count": 67,
   "id": "c72d6cb1",
   "metadata": {},
   "outputs": [
    {
     "name": "stdout",
     "output_type": "stream",
     "text": [
      "True 200\n",
      "20250602191744_cca384380c15535d27af084e6b025b91_IMAG01_1.jpg\n",
      "Writing to 20250602191744_cca384380c15535d27af084e6b025b91_IMAG01_1.jpg(158,502bytes)\n",
      "True 200\n",
      "20250602191744_cca384380c15535d27af084e6b025b91_IMAG01_2.jpg\n",
      "Writing to 20250602191744_cca384380c15535d27af084e6b025b91_IMAG01_2.jpg(144,551bytes)\n",
      "True 200\n",
      "20250602191744_cca384380c15535d27af084e6b025b91_IMAG01_3.jpg\n",
      "Writing to 20250602191744_cca384380c15535d27af084e6b025b91_IMAG01_3.jpg(221,355bytes)\n"
     ]
    }
   ],
   "source": [
    "import requests\n",
    "import os\n",
    "\n",
    "req_header = {\n",
    "    'referer':'https://comic.naver.com/webtoon/detail?titleId=747269&no=266&week=wed', \n",
    "    \"user-agent\": \"Mozilla/5.0 (Windows NT 10.0; Win64; x64) AppleWebKit/537.36 (KHTML, like Gecko) Chrome/104.0.0.0 Safari/537.36\"}\n",
    "\n",
    "img_urls = [\n",
    "    'https://image-comic.pstatic.net/webtoon/747269/266/20250602191744_cca384380c15535d27af084e6b025b91_IMAG01_1.jpg',\n",
    "    'https://image-comic.pstatic.net/webtoon/747269/266/20250602191744_cca384380c15535d27af084e6b025b91_IMAG01_2.jpg',\n",
    "    'https://image-comic.pstatic.net/webtoon/747269/266/20250602191744_cca384380c15535d27af084e6b025b91_IMAG01_3.jpg'\n",
    "]\n",
    "\n",
    "for img_url in img_urls:\n",
    "    # requests 의 get(url, headers) 함수 호출하기 \n",
    "    res = requests.get(img_url, headers = req_header)\n",
    "    print(res.ok, res.status_code)\n",
    "    # binary 응답 데이터 가져오기\n",
    "    if res.ok :\n",
    "        img_data = res.content\n",
    "        #print(img_data)\n",
    "        \n",
    "    # url에서 파일명만 추출하기\n",
    "    file_name = os.path.basename(img_url)\n",
    "    print(file_name)    \n",
    "    # binday data를 file에 write하기\n",
    "    with open(file_name, 'wb') as file :\n",
    "        print(f'Writing to {file_name}({len(img_data):,}bytes)')\n",
    "        file.write(img_data)"
   ]
  },
  {
   "cell_type": "markdown",
   "id": "e8b00a04",
   "metadata": {},
   "source": [
    "* 현재 요청된 페이지의 image 모두 다운로드 해보기"
   ]
  },
  {
   "cell_type": "code",
   "execution_count": null,
   "id": "b30f7bf5",
   "metadata": {},
   "outputs": [],
   "source": []
  },
  {
   "cell_type": "markdown",
   "id": "2ac9f5f9",
   "metadata": {},
   "source": [
    "### 3. 파일 업로드 하기\n",
    "* http://httpbin.org/post 업로드 요청을 할 수 있는 url"
   ]
  },
  {
   "cell_type": "code",
   "execution_count": null,
   "id": "04da4790",
   "metadata": {},
   "outputs": [
    {
     "name": "stdout",
     "output_type": "stream",
     "text": [
      "200\n"
     ]
    }
   ],
   "source": [
    "import requests\n",
    "\n",
    "upload_files = {\n",
    "    \n",
    "}\n",
    "#print(upload_files)\n",
    "\n",
    "url = 'http://httpbin.org/post'\n",
    "# file 업로드 하려면 requests의 post 함수에 files 속성을 사용합니다.\n",
    "\n"
   ]
  },
  {
   "cell_type": "markdown",
   "id": "7ad65f12",
   "metadata": {},
   "source": [
    "### 4. 캡챠(이미지) API 호출하기\n",
    "* urllib 사용\n",
    "* 1. 캡차 키 발급 요청\n",
    "  2. 캡차 이미지 요청\n",
    "  3. 사용자 입력값 검증 요청"
   ]
  },
  {
   "cell_type": "code",
   "execution_count": null,
   "id": "bc4ae360-e772-4873-8642-d3494edd34e1",
   "metadata": {},
   "outputs": [],
   "source": [
    "# 캡차 키 발급 요청\n"
   ]
  },
  {
   "cell_type": "code",
   "execution_count": null,
   "id": "7b95b6a0-c218-4792-82a6-da4d80872071",
   "metadata": {},
   "outputs": [],
   "source": [
    "# 캡차 이미지 요청\n"
   ]
  },
  {
   "cell_type": "code",
   "execution_count": null,
   "id": "a79076af-2cd0-4de2-8301-316b9130c55e",
   "metadata": {},
   "outputs": [],
   "source": [
    "#  사용자 입력값 검증 요청\n",
    "\n"
   ]
  },
  {
   "cell_type": "markdown",
   "id": "b7d984a6",
   "metadata": {},
   "source": [
    "* requests를 사용하는 코드로 변경하기\n",
    "* [requests docs](https://requests.readthedocs.io/en/latest/user/quickstart/)"
   ]
  },
  {
   "cell_type": "code",
   "execution_count": null,
   "id": "727b427b",
   "metadata": {
    "scrolled": true
   },
   "outputs": [
    {
     "name": "stdout",
     "output_type": "stream",
     "text": [
      "Error Code: 403\n"
     ]
    }
   ],
   "source": [
    "# 사용자 입력값 검증 요청\n",
    "\n"
   ]
  },
  {
   "cell_type": "markdown",
   "id": "d5e1179a",
   "metadata": {},
   "source": [
    "### 5. 블로그 검색하기"
   ]
  },
  {
   "cell_type": "code",
   "execution_count": null,
   "id": "877d0c7f",
   "metadata": {},
   "outputs": [],
   "source": [
    "import requests\n",
    "import pprint\n",
    "\n",
    "headers = {\n",
    "    'X-Naver-Client-Id': '',\n",
    "    'X-Naver-Client-Secret': '',\n",
    "}\n",
    "\n",
    "payload = {\n",
    "    'query': '파이썬',\n",
    "    'display': 100,\n",
    "    'sort': 'sim'\n",
    "}\n",
    "\n",
    "url = 'https://openapi.naver.com/v1/search/blog.json'\n",
    "\n",
    "\n",
    "# requests get(url, params, headers) 요청 \n",
    "\n",
    "# json() 함수로 응답 결과 가져오오기\n",
    "# 'title' , 'bloggername' , 'description' , 'bloggerlink' , 'link'\n",
    "\n",
    "# 'data/nhnblog.txt' 파일 생성하기\n"
   ]
  }
 ],
 "metadata": {
  "kernelspec": {
   "display_name": "base",
   "language": "python",
   "name": "python3"
  },
  "language_info": {
   "codemirror_mode": {
    "name": "ipython",
    "version": 3
   },
   "file_extension": ".py",
   "mimetype": "text/x-python",
   "name": "python",
   "nbconvert_exporter": "python",
   "pygments_lexer": "ipython3",
   "version": "3.12.7"
  }
 },
 "nbformat": 4,
 "nbformat_minor": 5
}
